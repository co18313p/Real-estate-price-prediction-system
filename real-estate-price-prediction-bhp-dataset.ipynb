{
 "cells": [
  {
   "cell_type": "markdown",
   "metadata": {
    "papermill": {
     "duration": 0.046645,
     "end_time": "2021-01-26T05:55:31.490567",
     "exception": false,
     "start_time": "2021-01-26T05:55:31.443922",
     "status": "completed"
    },
    "tags": []
   },
   "source": [
    "Real State Price Prediction System"
   ]
  },
  {
   "cell_type": "markdown",
   "metadata": {
    "papermill": {
     "duration": 0.04654,
     "end_time": "2021-01-26T05:55:31.584259",
     "exception": false,
     "start_time": "2021-01-26T05:55:31.537719",
     "status": "completed"
    },
    "tags": []
   },
   "source": [
    "# 1. Importing necessary Libraries"
   ]
  },
  {
   "cell_type": "code",
   "execution_count": 1,
   "metadata": {
    "_cell_guid": "b1076dfc-b9ad-4769-8c92-a6c4dae69d19",
    "_uuid": "8f2839f25d086af736a60e9eeb907d3b93b6e0e5",
    "execution": {
     "iopub.execute_input": "2021-01-26T05:55:31.682504Z",
     "iopub.status.busy": "2021-01-26T05:55:31.681436Z",
     "iopub.status.idle": "2021-01-26T05:55:32.964187Z",
     "shell.execute_reply": "2021-01-26T05:55:32.964716Z"
    },
    "papermill": {
     "duration": 1.33379,
     "end_time": "2021-01-26T05:55:32.964911",
     "exception": false,
     "start_time": "2021-01-26T05:55:31.631121",
     "status": "completed"
    },
    "tags": []
   },
   "outputs": [],
   "source": [
    "import numpy as np\n",
    "import pandas as pd\n",
    "import matplotlib.pyplot as plt\n",
    "%matplotlib inline\n",
    "import matplotlib\n",
    "matplotlib.rcParams['figure.figsize'] = (20,10)\n",
    "from sklearn import metrics\n",
    "from sklearn.model_selection import train_test_split\n",
    "from sklearn.model_selection import ShuffleSplit\n",
    "from sklearn.model_selection import cross_val_score\n",
    "from sklearn.model_selection import GridSearchCV\n",
    "from sklearn.linear_model import LinearRegression\n",
    "from sklearn.linear_model import Lasso\n",
    "from sklearn.tree import DecisionTreeRegressor\n",
    "import pickle\n",
    "import json"
   ]
  },
  {
   "cell_type": "markdown",
   "metadata": {
    "papermill": {
     "duration": 0.04739,
     "end_time": "2021-01-26T05:55:33.062229",
     "exception": false,
     "start_time": "2021-01-26T05:55:33.014839",
     "status": "completed"
    },
    "tags": []
   },
   "source": [
    "# 2. Reading Data\n",
    "We will use pandas `read_csv` function to read the data in csv file."
   ]
  },
  {
   "cell_type": "code",
   "execution_count": 2,
   "metadata": {
    "execution": {
     "iopub.execute_input": "2021-01-26T05:55:33.162428Z",
     "iopub.status.busy": "2021-01-26T05:55:33.161374Z",
     "iopub.status.idle": "2021-01-26T05:55:33.242471Z",
     "shell.execute_reply": "2021-01-26T05:55:33.242992Z"
    },
    "papermill": {
     "duration": 0.132776,
     "end_time": "2021-01-26T05:55:33.243132",
     "exception": false,
     "start_time": "2021-01-26T05:55:33.110356",
     "status": "completed"
    },
    "tags": []
   },
   "outputs": [
    {
     "data": {
      "text/html": [
       "<div>\n",
       "<style scoped>\n",
       "    .dataframe tbody tr th:only-of-type {\n",
       "        vertical-align: middle;\n",
       "    }\n",
       "\n",
       "    .dataframe tbody tr th {\n",
       "        vertical-align: top;\n",
       "    }\n",
       "\n",
       "    .dataframe thead th {\n",
       "        text-align: right;\n",
       "    }\n",
       "</style>\n",
       "<table border=\"1\" class=\"dataframe\">\n",
       "  <thead>\n",
       "    <tr style=\"text-align: right;\">\n",
       "      <th></th>\n",
       "      <th>area_type</th>\n",
       "      <th>availability</th>\n",
       "      <th>location</th>\n",
       "      <th>size</th>\n",
       "      <th>society</th>\n",
       "      <th>total_sqft</th>\n",
       "      <th>bath</th>\n",
       "      <th>balcony</th>\n",
       "      <th>price in lakhs</th>\n",
       "    </tr>\n",
       "  </thead>\n",
       "  <tbody>\n",
       "    <tr>\n",
       "      <th>0</th>\n",
       "      <td>Super built-up  Area</td>\n",
       "      <td>19-Dec</td>\n",
       "      <td>Electronic City Phase II</td>\n",
       "      <td>2 BHK</td>\n",
       "      <td>Coomee</td>\n",
       "      <td>1056</td>\n",
       "      <td>2.0</td>\n",
       "      <td>1.0</td>\n",
       "      <td>39.07</td>\n",
       "    </tr>\n",
       "    <tr>\n",
       "      <th>1</th>\n",
       "      <td>Plot  Area</td>\n",
       "      <td>Ready To Move</td>\n",
       "      <td>Chikka Tirupathi</td>\n",
       "      <td>4 Bedroom</td>\n",
       "      <td>Theanmp</td>\n",
       "      <td>2600</td>\n",
       "      <td>5.0</td>\n",
       "      <td>3.0</td>\n",
       "      <td>120.00</td>\n",
       "    </tr>\n",
       "    <tr>\n",
       "      <th>2</th>\n",
       "      <td>Built-up  Area</td>\n",
       "      <td>Ready To Move</td>\n",
       "      <td>Uttarahalli</td>\n",
       "      <td>3 BHK</td>\n",
       "      <td>NaN</td>\n",
       "      <td>1440</td>\n",
       "      <td>2.0</td>\n",
       "      <td>3.0</td>\n",
       "      <td>62.00</td>\n",
       "    </tr>\n",
       "    <tr>\n",
       "      <th>3</th>\n",
       "      <td>Super built-up  Area</td>\n",
       "      <td>Ready To Move</td>\n",
       "      <td>Lingadheeranahalli</td>\n",
       "      <td>3 BHK</td>\n",
       "      <td>Soiewre</td>\n",
       "      <td>1521</td>\n",
       "      <td>3.0</td>\n",
       "      <td>1.0</td>\n",
       "      <td>95.00</td>\n",
       "    </tr>\n",
       "    <tr>\n",
       "      <th>4</th>\n",
       "      <td>Super built-up  Area</td>\n",
       "      <td>Ready To Move</td>\n",
       "      <td>Kothanur</td>\n",
       "      <td>2 BHK</td>\n",
       "      <td>NaN</td>\n",
       "      <td>1200</td>\n",
       "      <td>2.0</td>\n",
       "      <td>1.0</td>\n",
       "      <td>51.00</td>\n",
       "    </tr>\n",
       "  </tbody>\n",
       "</table>\n",
       "</div>"
      ],
      "text/plain": [
       "              area_type   availability                  location       size  \\\n",
       "0  Super built-up  Area         19-Dec  Electronic City Phase II      2 BHK   \n",
       "1            Plot  Area  Ready To Move          Chikka Tirupathi  4 Bedroom   \n",
       "2        Built-up  Area  Ready To Move               Uttarahalli      3 BHK   \n",
       "3  Super built-up  Area  Ready To Move        Lingadheeranahalli      3 BHK   \n",
       "4  Super built-up  Area  Ready To Move                  Kothanur      2 BHK   \n",
       "\n",
       "   society total_sqft  bath  balcony  price in lakhs  \n",
       "0  Coomee        1056   2.0      1.0           39.07  \n",
       "1  Theanmp       2600   5.0      3.0          120.00  \n",
       "2      NaN       1440   2.0      3.0           62.00  \n",
       "3  Soiewre       1521   3.0      1.0           95.00  \n",
       "4      NaN       1200   2.0      1.0           51.00  "
      ]
     },
     "execution_count": 2,
     "metadata": {},
     "output_type": "execute_result"
    }
   ],
   "source": [
    "filepath = r'C:\\Users\\#stormy\\Desktop\\python\\notebook\\project\\Bengaluru_House_Data.csv'    #filepath of the dataset\n",
    "data = pd.read_csv(filepath)\n",
    "data.head()"
   ]
  },
  {
   "cell_type": "markdown",
   "metadata": {
    "papermill": {
     "duration": 0.047769,
     "end_time": "2021-01-26T05:55:33.339295",
     "exception": false,
     "start_time": "2021-01-26T05:55:33.291526",
     "status": "completed"
    },
    "tags": []
   },
   "source": [
    "# 3. Data Preprcessing\n",
    "Data preprocessing is a data mining technique that involves transforming raw data into an understandable format."
   ]
  },
  {
   "cell_type": "code",
   "execution_count": 3,
   "metadata": {
    "execution": {
     "iopub.execute_input": "2021-01-26T05:55:33.440463Z",
     "iopub.status.busy": "2021-01-26T05:55:33.439330Z",
     "iopub.status.idle": "2021-01-26T05:55:33.445342Z",
     "shell.execute_reply": "2021-01-26T05:55:33.445830Z"
    },
    "papermill": {
     "duration": 0.0585,
     "end_time": "2021-01-26T05:55:33.446051",
     "exception": false,
     "start_time": "2021-01-26T05:55:33.387551",
     "status": "completed"
    },
    "tags": []
   },
   "outputs": [
    {
     "data": {
      "text/plain": [
       "(13320, 9)"
      ]
     },
     "execution_count": 3,
     "metadata": {},
     "output_type": "execute_result"
    }
   ],
   "source": [
    "data.shape"
   ]
  },
  {
   "cell_type": "code",
   "execution_count": 4,
   "metadata": {
    "execution": {
     "iopub.execute_input": "2021-01-26T05:55:33.547975Z",
     "iopub.status.busy": "2021-01-26T05:55:33.547300Z",
     "iopub.status.idle": "2021-01-26T05:55:33.558489Z",
     "shell.execute_reply": "2021-01-26T05:55:33.559037Z"
    },
    "papermill": {
     "duration": 0.064697,
     "end_time": "2021-01-26T05:55:33.559185",
     "exception": false,
     "start_time": "2021-01-26T05:55:33.494488",
     "status": "completed"
    },
    "tags": []
   },
   "outputs": [
    {
     "data": {
      "text/plain": [
       "area_type\n",
       "Built-up  Area          2418\n",
       "Carpet  Area              87\n",
       "Plot  Area              2025\n",
       "Super built-up  Area    8790\n",
       "Name: area_type, dtype: int64"
      ]
     },
     "execution_count": 4,
     "metadata": {},
     "output_type": "execute_result"
    }
   ],
   "source": [
    "data.groupby('area_type')['area_type'].agg('count')    # taking the 'area_type' column as a group and counting its values"
   ]
  },
  {
   "cell_type": "markdown",
   "metadata": {
    "papermill": {
     "duration": 0.049323,
     "end_time": "2021-01-26T05:55:33.658508",
     "exception": false,
     "start_time": "2021-01-26T05:55:33.609185",
     "status": "completed"
    },
    "tags": []
   },
   "source": [
    "`groupby()` function is used to split the data into groups based on some criteria\n",
    "and\n",
    "`agg()` function abbreviation of aggregate is used to define what we want to do with the grouped data.\n"
   ]
  },
  {
   "cell_type": "code",
   "execution_count": 5,
   "metadata": {
    "execution": {
     "iopub.execute_input": "2021-01-26T05:55:33.762320Z",
     "iopub.status.busy": "2021-01-26T05:55:33.761640Z",
     "iopub.status.idle": "2021-01-26T05:55:33.778616Z",
     "shell.execute_reply": "2021-01-26T05:55:33.778072Z"
    },
    "papermill": {
     "duration": 0.069553,
     "end_time": "2021-01-26T05:55:33.778810",
     "exception": false,
     "start_time": "2021-01-26T05:55:33.709257",
     "status": "completed"
    },
    "tags": []
   },
   "outputs": [
    {
     "data": {
      "text/html": [
       "<div>\n",
       "<style scoped>\n",
       "    .dataframe tbody tr th:only-of-type {\n",
       "        vertical-align: middle;\n",
       "    }\n",
       "\n",
       "    .dataframe tbody tr th {\n",
       "        vertical-align: top;\n",
       "    }\n",
       "\n",
       "    .dataframe thead th {\n",
       "        text-align: right;\n",
       "    }\n",
       "</style>\n",
       "<table border=\"1\" class=\"dataframe\">\n",
       "  <thead>\n",
       "    <tr style=\"text-align: right;\">\n",
       "      <th></th>\n",
       "      <th>location</th>\n",
       "      <th>size</th>\n",
       "      <th>total_sqft</th>\n",
       "      <th>bath</th>\n",
       "      <th>price in lakhs</th>\n",
       "    </tr>\n",
       "  </thead>\n",
       "  <tbody>\n",
       "    <tr>\n",
       "      <th>0</th>\n",
       "      <td>Electronic City Phase II</td>\n",
       "      <td>2 BHK</td>\n",
       "      <td>1056</td>\n",
       "      <td>2.0</td>\n",
       "      <td>39.07</td>\n",
       "    </tr>\n",
       "    <tr>\n",
       "      <th>1</th>\n",
       "      <td>Chikka Tirupathi</td>\n",
       "      <td>4 Bedroom</td>\n",
       "      <td>2600</td>\n",
       "      <td>5.0</td>\n",
       "      <td>120.00</td>\n",
       "    </tr>\n",
       "    <tr>\n",
       "      <th>2</th>\n",
       "      <td>Uttarahalli</td>\n",
       "      <td>3 BHK</td>\n",
       "      <td>1440</td>\n",
       "      <td>2.0</td>\n",
       "      <td>62.00</td>\n",
       "    </tr>\n",
       "    <tr>\n",
       "      <th>3</th>\n",
       "      <td>Lingadheeranahalli</td>\n",
       "      <td>3 BHK</td>\n",
       "      <td>1521</td>\n",
       "      <td>3.0</td>\n",
       "      <td>95.00</td>\n",
       "    </tr>\n",
       "    <tr>\n",
       "      <th>4</th>\n",
       "      <td>Kothanur</td>\n",
       "      <td>2 BHK</td>\n",
       "      <td>1200</td>\n",
       "      <td>2.0</td>\n",
       "      <td>51.00</td>\n",
       "    </tr>\n",
       "  </tbody>\n",
       "</table>\n",
       "</div>"
      ],
      "text/plain": [
       "                   location       size total_sqft  bath  price in lakhs\n",
       "0  Electronic City Phase II      2 BHK       1056   2.0           39.07\n",
       "1          Chikka Tirupathi  4 Bedroom       2600   5.0          120.00\n",
       "2               Uttarahalli      3 BHK       1440   2.0           62.00\n",
       "3        Lingadheeranahalli      3 BHK       1521   3.0           95.00\n",
       "4                  Kothanur      2 BHK       1200   2.0           51.00"
      ]
     },
     "execution_count": 5,
     "metadata": {},
     "output_type": "execute_result"
    }
   ],
   "source": [
    "data2 = data.drop(['area_type','society','balcony','availability'], axis='columns')     # dropping useless columns\n",
    "data2.head()"
   ]
  },
  {
   "cell_type": "code",
   "execution_count": 6,
   "metadata": {
    "execution": {
     "iopub.execute_input": "2021-01-26T05:55:33.889803Z",
     "iopub.status.busy": "2021-01-26T05:55:33.889100Z",
     "iopub.status.idle": "2021-01-26T05:55:33.895281Z",
     "shell.execute_reply": "2021-01-26T05:55:33.895871Z"
    },
    "papermill": {
     "duration": 0.066195,
     "end_time": "2021-01-26T05:55:33.896032",
     "exception": false,
     "start_time": "2021-01-26T05:55:33.829837",
     "status": "completed"
    },
    "tags": []
   },
   "outputs": [
    {
     "data": {
      "text/plain": [
       "location           1\n",
       "size              16\n",
       "total_sqft         0\n",
       "bath              73\n",
       "price in lakhs     0\n",
       "dtype: int64"
      ]
     },
     "execution_count": 6,
     "metadata": {},
     "output_type": "execute_result"
    }
   ],
   "source": [
    "data2.isnull().sum()     # finding total empty values in each column"
   ]
  },
  {
   "cell_type": "code",
   "execution_count": 7,
   "metadata": {
    "execution": {
     "iopub.execute_input": "2021-01-26T05:55:34.001228Z",
     "iopub.status.busy": "2021-01-26T05:55:34.000565Z",
     "iopub.status.idle": "2021-01-26T05:55:34.044945Z",
     "shell.execute_reply": "2021-01-26T05:55:34.044358Z"
    },
    "papermill": {
     "duration": 0.09811,
     "end_time": "2021-01-26T05:55:34.045060",
     "exception": false,
     "start_time": "2021-01-26T05:55:33.946950",
     "status": "completed"
    },
    "tags": []
   },
   "outputs": [
    {
     "data": {
      "text/plain": [
       "location          0\n",
       "size              0\n",
       "total_sqft        0\n",
       "bath              0\n",
       "price in lakhs    0\n",
       "dtype: int64"
      ]
     },
     "execution_count": 7,
     "metadata": {},
     "output_type": "execute_result"
    }
   ],
   "source": [
    "data3 = data2.dropna()    # dropping 'NA' values\n",
    "data3.isnull().sum()"
   ]
  },
  {
   "cell_type": "code",
   "execution_count": 8,
   "metadata": {
    "execution": {
     "iopub.execute_input": "2021-01-26T05:55:34.153620Z",
     "iopub.status.busy": "2021-01-26T05:55:34.152962Z",
     "iopub.status.idle": "2021-01-26T05:55:34.155940Z",
     "shell.execute_reply": "2021-01-26T05:55:34.156434Z"
    },
    "papermill": {
     "duration": 0.059729,
     "end_time": "2021-01-26T05:55:34.156570",
     "exception": false,
     "start_time": "2021-01-26T05:55:34.096841",
     "status": "completed"
    },
    "tags": []
   },
   "outputs": [
    {
     "data": {
      "text/plain": [
       "(13246, 5)"
      ]
     },
     "execution_count": 8,
     "metadata": {},
     "output_type": "execute_result"
    }
   ],
   "source": [
    "data3.shape"
   ]
  },
  {
   "cell_type": "code",
   "execution_count": 9,
   "metadata": {
    "execution": {
     "iopub.execute_input": "2021-01-26T05:55:34.268046Z",
     "iopub.status.busy": "2021-01-26T05:55:34.267373Z",
     "iopub.status.idle": "2021-01-26T05:55:34.271724Z",
     "shell.execute_reply": "2021-01-26T05:55:34.272256Z"
    },
    "papermill": {
     "duration": 0.064401,
     "end_time": "2021-01-26T05:55:34.272420",
     "exception": false,
     "start_time": "2021-01-26T05:55:34.208019",
     "status": "completed"
    },
    "tags": []
   },
   "outputs": [
    {
     "data": {
      "text/plain": [
       "array(['2 BHK', '4 Bedroom', '3 BHK', '4 BHK', '6 Bedroom', '3 Bedroom',\n",
       "       '1 BHK', '1 RK', '1 Bedroom', '8 Bedroom', '2 Bedroom',\n",
       "       '7 Bedroom', '5 BHK', '7 BHK', '6 BHK', '5 Bedroom', '11 BHK',\n",
       "       '9 BHK', '9 Bedroom', '27 BHK', '10 Bedroom', '11 Bedroom',\n",
       "       '10 BHK', '19 BHK', '16 BHK', '43 Bedroom', '14 BHK', '8 BHK',\n",
       "       '12 Bedroom', '13 BHK', '18 Bedroom'], dtype=object)"
      ]
     },
     "execution_count": 9,
     "metadata": {},
     "output_type": "execute_result"
    }
   ],
   "source": [
    "data3['size'].unique()    # checking unique values in size column"
   ]
  },
  {
   "cell_type": "code",
   "execution_count": 10,
   "metadata": {
    "execution": {
     "iopub.execute_input": "2021-01-26T05:55:34.380623Z",
     "iopub.status.busy": "2021-01-26T05:55:34.379965Z",
     "iopub.status.idle": "2021-01-26T05:55:34.401130Z",
     "shell.execute_reply": "2021-01-26T05:55:34.401871Z"
    },
    "papermill": {
     "duration": 0.076795,
     "end_time": "2021-01-26T05:55:34.402079",
     "exception": false,
     "start_time": "2021-01-26T05:55:34.325284",
     "status": "completed"
    },
    "tags": []
   },
   "outputs": [
    {
     "name": "stderr",
     "output_type": "stream",
     "text": [
      "<ipython-input-10-3d8702cc8485>:1: SettingWithCopyWarning: \n",
      "A value is trying to be set on a copy of a slice from a DataFrame.\n",
      "Try using .loc[row_indexer,col_indexer] = value instead\n",
      "\n",
      "See the caveats in the documentation: https://pandas.pydata.org/pandas-docs/stable/user_guide/indexing.html#returning-a-view-versus-a-copy\n",
      "  data3['bhk'] = data3['size'].apply(lambda x: int(x.split(' ')[0]))    # getting the number of bedrooms from size column\n"
     ]
    }
   ],
   "source": [
    "data3['bhk'] = data3['size'].apply(lambda x: int(x.split(' ')[0]))    # getting the number of bedrooms from size column"
   ]
  },
  {
   "cell_type": "code",
   "execution_count": 11,
   "metadata": {
    "execution": {
     "iopub.execute_input": "2021-01-26T05:55:34.513519Z",
     "iopub.status.busy": "2021-01-26T05:55:34.512859Z",
     "iopub.status.idle": "2021-01-26T05:55:34.526176Z",
     "shell.execute_reply": "2021-01-26T05:55:34.526772Z"
    },
    "papermill": {
     "duration": 0.070164,
     "end_time": "2021-01-26T05:55:34.526919",
     "exception": false,
     "start_time": "2021-01-26T05:55:34.456755",
     "status": "completed"
    },
    "tags": []
   },
   "outputs": [
    {
     "data": {
      "text/html": [
       "<div>\n",
       "<style scoped>\n",
       "    .dataframe tbody tr th:only-of-type {\n",
       "        vertical-align: middle;\n",
       "    }\n",
       "\n",
       "    .dataframe tbody tr th {\n",
       "        vertical-align: top;\n",
       "    }\n",
       "\n",
       "    .dataframe thead th {\n",
       "        text-align: right;\n",
       "    }\n",
       "</style>\n",
       "<table border=\"1\" class=\"dataframe\">\n",
       "  <thead>\n",
       "    <tr style=\"text-align: right;\">\n",
       "      <th></th>\n",
       "      <th>location</th>\n",
       "      <th>size</th>\n",
       "      <th>total_sqft</th>\n",
       "      <th>bath</th>\n",
       "      <th>price in lakhs</th>\n",
       "      <th>bhk</th>\n",
       "    </tr>\n",
       "  </thead>\n",
       "  <tbody>\n",
       "    <tr>\n",
       "      <th>0</th>\n",
       "      <td>Electronic City Phase II</td>\n",
       "      <td>2 BHK</td>\n",
       "      <td>1056</td>\n",
       "      <td>2.0</td>\n",
       "      <td>39.07</td>\n",
       "      <td>2</td>\n",
       "    </tr>\n",
       "    <tr>\n",
       "      <th>1</th>\n",
       "      <td>Chikka Tirupathi</td>\n",
       "      <td>4 Bedroom</td>\n",
       "      <td>2600</td>\n",
       "      <td>5.0</td>\n",
       "      <td>120.00</td>\n",
       "      <td>4</td>\n",
       "    </tr>\n",
       "    <tr>\n",
       "      <th>2</th>\n",
       "      <td>Uttarahalli</td>\n",
       "      <td>3 BHK</td>\n",
       "      <td>1440</td>\n",
       "      <td>2.0</td>\n",
       "      <td>62.00</td>\n",
       "      <td>3</td>\n",
       "    </tr>\n",
       "    <tr>\n",
       "      <th>3</th>\n",
       "      <td>Lingadheeranahalli</td>\n",
       "      <td>3 BHK</td>\n",
       "      <td>1521</td>\n",
       "      <td>3.0</td>\n",
       "      <td>95.00</td>\n",
       "      <td>3</td>\n",
       "    </tr>\n",
       "    <tr>\n",
       "      <th>4</th>\n",
       "      <td>Kothanur</td>\n",
       "      <td>2 BHK</td>\n",
       "      <td>1200</td>\n",
       "      <td>2.0</td>\n",
       "      <td>51.00</td>\n",
       "      <td>2</td>\n",
       "    </tr>\n",
       "  </tbody>\n",
       "</table>\n",
       "</div>"
      ],
      "text/plain": [
       "                   location       size total_sqft  bath  price in lakhs  bhk\n",
       "0  Electronic City Phase II      2 BHK       1056   2.0           39.07    2\n",
       "1          Chikka Tirupathi  4 Bedroom       2600   5.0          120.00    4\n",
       "2               Uttarahalli      3 BHK       1440   2.0           62.00    3\n",
       "3        Lingadheeranahalli      3 BHK       1521   3.0           95.00    3\n",
       "4                  Kothanur      2 BHK       1200   2.0           51.00    2"
      ]
     },
     "execution_count": 11,
     "metadata": {},
     "output_type": "execute_result"
    }
   ],
   "source": [
    "data3.head()"
   ]
  },
  {
   "cell_type": "code",
   "execution_count": 12,
   "metadata": {
    "execution": {
     "iopub.execute_input": "2021-01-26T05:55:34.666099Z",
     "iopub.status.busy": "2021-01-26T05:55:34.665348Z",
     "iopub.status.idle": "2021-01-26T05:55:34.675508Z",
     "shell.execute_reply": "2021-01-26T05:55:34.674917Z"
    },
    "papermill": {
     "duration": 0.082305,
     "end_time": "2021-01-26T05:55:34.675622",
     "exception": false,
     "start_time": "2021-01-26T05:55:34.593317",
     "status": "completed"
    },
    "tags": []
   },
   "outputs": [
    {
     "data": {
      "text/plain": [
       "array([ 2,  4,  3,  6,  1,  8,  7,  5, 11,  9, 27, 10, 19, 16, 43, 14, 12,\n",
       "       13, 18], dtype=int64)"
      ]
     },
     "execution_count": 12,
     "metadata": {},
     "output_type": "execute_result"
    }
   ],
   "source": [
    "data3['bhk'].unique()"
   ]
  },
  {
   "cell_type": "code",
   "execution_count": 13,
   "metadata": {
    "execution": {
     "iopub.execute_input": "2021-01-26T05:55:34.795057Z",
     "iopub.status.busy": "2021-01-26T05:55:34.793968Z",
     "iopub.status.idle": "2021-01-26T05:55:34.810006Z",
     "shell.execute_reply": "2021-01-26T05:55:34.809456Z"
    },
    "papermill": {
     "duration": 0.074974,
     "end_time": "2021-01-26T05:55:34.810124",
     "exception": false,
     "start_time": "2021-01-26T05:55:34.735150",
     "status": "completed"
    },
    "tags": []
   },
   "outputs": [
    {
     "data": {
      "text/html": [
       "<div>\n",
       "<style scoped>\n",
       "    .dataframe tbody tr th:only-of-type {\n",
       "        vertical-align: middle;\n",
       "    }\n",
       "\n",
       "    .dataframe tbody tr th {\n",
       "        vertical-align: top;\n",
       "    }\n",
       "\n",
       "    .dataframe thead th {\n",
       "        text-align: right;\n",
       "    }\n",
       "</style>\n",
       "<table border=\"1\" class=\"dataframe\">\n",
       "  <thead>\n",
       "    <tr style=\"text-align: right;\">\n",
       "      <th></th>\n",
       "      <th>location</th>\n",
       "      <th>size</th>\n",
       "      <th>total_sqft</th>\n",
       "      <th>bath</th>\n",
       "      <th>price in lakhs</th>\n",
       "      <th>bhk</th>\n",
       "    </tr>\n",
       "  </thead>\n",
       "  <tbody>\n",
       "    <tr>\n",
       "      <th>1718</th>\n",
       "      <td>2Electronic City Phase II</td>\n",
       "      <td>27 BHK</td>\n",
       "      <td>8000</td>\n",
       "      <td>27.0</td>\n",
       "      <td>230.0</td>\n",
       "      <td>27</td>\n",
       "    </tr>\n",
       "    <tr>\n",
       "      <th>4684</th>\n",
       "      <td>Munnekollal</td>\n",
       "      <td>43 Bedroom</td>\n",
       "      <td>2400</td>\n",
       "      <td>40.0</td>\n",
       "      <td>660.0</td>\n",
       "      <td>43</td>\n",
       "    </tr>\n",
       "  </tbody>\n",
       "</table>\n",
       "</div>"
      ],
      "text/plain": [
       "                       location        size total_sqft  bath  price in lakhs  \\\n",
       "1718  2Electronic City Phase II      27 BHK       8000  27.0           230.0   \n",
       "4684                Munnekollal  43 Bedroom       2400  40.0           660.0   \n",
       "\n",
       "      bhk  \n",
       "1718   27  \n",
       "4684   43  "
      ]
     },
     "execution_count": 13,
     "metadata": {},
     "output_type": "execute_result"
    }
   ],
   "source": [
    "data3[data3.bhk>20]    "
   ]
  },
  {
   "cell_type": "markdown",
   "metadata": {
    "papermill": {
     "duration": 0.054974,
     "end_time": "2021-01-26T05:55:34.920736",
     "exception": false,
     "start_time": "2021-01-26T05:55:34.865762",
     "status": "completed"
    },
    "tags": []
   },
   "source": [
    "Finding rows with extraordinary values! (Outliers)"
   ]
  },
  {
   "cell_type": "code",
   "execution_count": 14,
   "metadata": {
    "execution": {
     "iopub.execute_input": "2021-01-26T05:55:35.039405Z",
     "iopub.status.busy": "2021-01-26T05:55:35.038743Z",
     "iopub.status.idle": "2021-01-26T05:55:35.042886Z",
     "shell.execute_reply": "2021-01-26T05:55:35.043356Z"
    },
    "papermill": {
     "duration": 0.068023,
     "end_time": "2021-01-26T05:55:35.043506",
     "exception": false,
     "start_time": "2021-01-26T05:55:34.975483",
     "status": "completed"
    },
    "tags": []
   },
   "outputs": [
    {
     "data": {
      "text/plain": [
       "array(['1056', '2600', '1440', ..., '1133 - 1384', '774', '4689'],\n",
       "      dtype=object)"
      ]
     },
     "execution_count": 14,
     "metadata": {},
     "output_type": "execute_result"
    }
   ],
   "source": [
    "data3.total_sqft.unique()"
   ]
  },
  {
   "cell_type": "code",
   "execution_count": 15,
   "metadata": {
    "execution": {
     "iopub.execute_input": "2021-01-26T05:55:35.155925Z",
     "iopub.status.busy": "2021-01-26T05:55:35.155267Z",
     "iopub.status.idle": "2021-01-26T05:55:35.160472Z",
     "shell.execute_reply": "2021-01-26T05:55:35.161063Z"
    },
    "papermill": {
     "duration": 0.063274,
     "end_time": "2021-01-26T05:55:35.161215",
     "exception": false,
     "start_time": "2021-01-26T05:55:35.097941",
     "status": "completed"
    },
    "tags": []
   },
   "outputs": [],
   "source": [
    "def is_float(x):\n",
    "    '''\n",
    "    Function to convert values into float dtype.\n",
    "    '''\n",
    "    try:\n",
    "        float(x)\n",
    "    except:\n",
    "        return False\n",
    "    return True"
   ]
  },
  {
   "cell_type": "code",
   "execution_count": 16,
   "metadata": {
    "execution": {
     "iopub.execute_input": "2021-01-26T05:55:35.276459Z",
     "iopub.status.busy": "2021-01-26T05:55:35.275713Z",
     "iopub.status.idle": "2021-01-26T05:55:35.301620Z",
     "shell.execute_reply": "2021-01-26T05:55:35.302176Z"
    },
    "papermill": {
     "duration": 0.085324,
     "end_time": "2021-01-26T05:55:35.302318",
     "exception": false,
     "start_time": "2021-01-26T05:55:35.216994",
     "status": "completed"
    },
    "tags": []
   },
   "outputs": [
    {
     "data": {
      "text/html": [
       "<div>\n",
       "<style scoped>\n",
       "    .dataframe tbody tr th:only-of-type {\n",
       "        vertical-align: middle;\n",
       "    }\n",
       "\n",
       "    .dataframe tbody tr th {\n",
       "        vertical-align: top;\n",
       "    }\n",
       "\n",
       "    .dataframe thead th {\n",
       "        text-align: right;\n",
       "    }\n",
       "</style>\n",
       "<table border=\"1\" class=\"dataframe\">\n",
       "  <thead>\n",
       "    <tr style=\"text-align: right;\">\n",
       "      <th></th>\n",
       "      <th>location</th>\n",
       "      <th>size</th>\n",
       "      <th>total_sqft</th>\n",
       "      <th>bath</th>\n",
       "      <th>price in lakhs</th>\n",
       "      <th>bhk</th>\n",
       "    </tr>\n",
       "  </thead>\n",
       "  <tbody>\n",
       "    <tr>\n",
       "      <th>30</th>\n",
       "      <td>Yelahanka</td>\n",
       "      <td>4 BHK</td>\n",
       "      <td>2100 - 2850</td>\n",
       "      <td>4.0</td>\n",
       "      <td>186.000</td>\n",
       "      <td>4</td>\n",
       "    </tr>\n",
       "    <tr>\n",
       "      <th>122</th>\n",
       "      <td>Hebbal</td>\n",
       "      <td>4 BHK</td>\n",
       "      <td>3067 - 8156</td>\n",
       "      <td>4.0</td>\n",
       "      <td>477.000</td>\n",
       "      <td>4</td>\n",
       "    </tr>\n",
       "    <tr>\n",
       "      <th>137</th>\n",
       "      <td>8th Phase JP Nagar</td>\n",
       "      <td>2 BHK</td>\n",
       "      <td>1042 - 1105</td>\n",
       "      <td>2.0</td>\n",
       "      <td>54.005</td>\n",
       "      <td>2</td>\n",
       "    </tr>\n",
       "    <tr>\n",
       "      <th>165</th>\n",
       "      <td>Sarjapur</td>\n",
       "      <td>2 BHK</td>\n",
       "      <td>1145 - 1340</td>\n",
       "      <td>2.0</td>\n",
       "      <td>43.490</td>\n",
       "      <td>2</td>\n",
       "    </tr>\n",
       "    <tr>\n",
       "      <th>188</th>\n",
       "      <td>KR Puram</td>\n",
       "      <td>2 BHK</td>\n",
       "      <td>1015 - 1540</td>\n",
       "      <td>2.0</td>\n",
       "      <td>56.800</td>\n",
       "      <td>2</td>\n",
       "    </tr>\n",
       "    <tr>\n",
       "      <th>410</th>\n",
       "      <td>Kengeri</td>\n",
       "      <td>1 BHK</td>\n",
       "      <td>34.46Sq. Meter</td>\n",
       "      <td>1.0</td>\n",
       "      <td>18.500</td>\n",
       "      <td>1</td>\n",
       "    </tr>\n",
       "    <tr>\n",
       "      <th>549</th>\n",
       "      <td>Hennur Road</td>\n",
       "      <td>2 BHK</td>\n",
       "      <td>1195 - 1440</td>\n",
       "      <td>2.0</td>\n",
       "      <td>63.770</td>\n",
       "      <td>2</td>\n",
       "    </tr>\n",
       "    <tr>\n",
       "      <th>648</th>\n",
       "      <td>Arekere</td>\n",
       "      <td>9 Bedroom</td>\n",
       "      <td>4125Perch</td>\n",
       "      <td>9.0</td>\n",
       "      <td>265.000</td>\n",
       "      <td>9</td>\n",
       "    </tr>\n",
       "    <tr>\n",
       "      <th>661</th>\n",
       "      <td>Yelahanka</td>\n",
       "      <td>2 BHK</td>\n",
       "      <td>1120 - 1145</td>\n",
       "      <td>2.0</td>\n",
       "      <td>48.130</td>\n",
       "      <td>2</td>\n",
       "    </tr>\n",
       "    <tr>\n",
       "      <th>672</th>\n",
       "      <td>Bettahalsoor</td>\n",
       "      <td>4 Bedroom</td>\n",
       "      <td>3090 - 5002</td>\n",
       "      <td>4.0</td>\n",
       "      <td>445.000</td>\n",
       "      <td>4</td>\n",
       "    </tr>\n",
       "    <tr>\n",
       "      <th>772</th>\n",
       "      <td>Banashankari Stage VI</td>\n",
       "      <td>2 BHK</td>\n",
       "      <td>1160 - 1195</td>\n",
       "      <td>2.0</td>\n",
       "      <td>59.935</td>\n",
       "      <td>2</td>\n",
       "    </tr>\n",
       "    <tr>\n",
       "      <th>775</th>\n",
       "      <td>Basavanagara</td>\n",
       "      <td>1 BHK</td>\n",
       "      <td>1000Sq. Meter</td>\n",
       "      <td>2.0</td>\n",
       "      <td>93.000</td>\n",
       "      <td>1</td>\n",
       "    </tr>\n",
       "    <tr>\n",
       "      <th>850</th>\n",
       "      <td>Bannerghatta Road</td>\n",
       "      <td>2 BHK</td>\n",
       "      <td>1115 - 1130</td>\n",
       "      <td>2.0</td>\n",
       "      <td>58.935</td>\n",
       "      <td>2</td>\n",
       "    </tr>\n",
       "    <tr>\n",
       "      <th>872</th>\n",
       "      <td>Singapura Village</td>\n",
       "      <td>2 BHK</td>\n",
       "      <td>1100Sq. Yards</td>\n",
       "      <td>2.0</td>\n",
       "      <td>45.000</td>\n",
       "      <td>2</td>\n",
       "    </tr>\n",
       "    <tr>\n",
       "      <th>886</th>\n",
       "      <td>Chandapura</td>\n",
       "      <td>1 BHK</td>\n",
       "      <td>520 - 645</td>\n",
       "      <td>1.0</td>\n",
       "      <td>15.135</td>\n",
       "      <td>1</td>\n",
       "    </tr>\n",
       "    <tr>\n",
       "      <th>927</th>\n",
       "      <td>Thanisandra</td>\n",
       "      <td>2 BHK</td>\n",
       "      <td>1000 - 1285</td>\n",
       "      <td>2.0</td>\n",
       "      <td>43.415</td>\n",
       "      <td>2</td>\n",
       "    </tr>\n",
       "    <tr>\n",
       "      <th>959</th>\n",
       "      <td>Kammasandra</td>\n",
       "      <td>1 BHK</td>\n",
       "      <td>650 - 665</td>\n",
       "      <td>1.0</td>\n",
       "      <td>18.410</td>\n",
       "      <td>1</td>\n",
       "    </tr>\n",
       "    <tr>\n",
       "      <th>990</th>\n",
       "      <td>Sarjapur</td>\n",
       "      <td>1 BHK</td>\n",
       "      <td>633 - 666</td>\n",
       "      <td>1.0</td>\n",
       "      <td>17.535</td>\n",
       "      <td>1</td>\n",
       "    </tr>\n",
       "    <tr>\n",
       "      <th>1019</th>\n",
       "      <td>Marathi Layout</td>\n",
       "      <td>1 Bedroom</td>\n",
       "      <td>5.31Acres</td>\n",
       "      <td>1.0</td>\n",
       "      <td>110.000</td>\n",
       "      <td>1</td>\n",
       "    </tr>\n",
       "    <tr>\n",
       "      <th>1086</th>\n",
       "      <td>Narasapura</td>\n",
       "      <td>2 Bedroom</td>\n",
       "      <td>30Acres</td>\n",
       "      <td>2.0</td>\n",
       "      <td>29.500</td>\n",
       "      <td>2</td>\n",
       "    </tr>\n",
       "  </tbody>\n",
       "</table>\n",
       "</div>"
      ],
      "text/plain": [
       "                   location       size      total_sqft  bath  price in lakhs  \\\n",
       "30                Yelahanka      4 BHK     2100 - 2850   4.0         186.000   \n",
       "122                  Hebbal      4 BHK     3067 - 8156   4.0         477.000   \n",
       "137      8th Phase JP Nagar      2 BHK     1042 - 1105   2.0          54.005   \n",
       "165                Sarjapur      2 BHK     1145 - 1340   2.0          43.490   \n",
       "188                KR Puram      2 BHK     1015 - 1540   2.0          56.800   \n",
       "410                 Kengeri      1 BHK  34.46Sq. Meter   1.0          18.500   \n",
       "549             Hennur Road      2 BHK     1195 - 1440   2.0          63.770   \n",
       "648                 Arekere  9 Bedroom       4125Perch   9.0         265.000   \n",
       "661               Yelahanka      2 BHK     1120 - 1145   2.0          48.130   \n",
       "672            Bettahalsoor  4 Bedroom     3090 - 5002   4.0         445.000   \n",
       "772   Banashankari Stage VI      2 BHK     1160 - 1195   2.0          59.935   \n",
       "775            Basavanagara      1 BHK   1000Sq. Meter   2.0          93.000   \n",
       "850       Bannerghatta Road      2 BHK     1115 - 1130   2.0          58.935   \n",
       "872       Singapura Village      2 BHK   1100Sq. Yards   2.0          45.000   \n",
       "886              Chandapura      1 BHK       520 - 645   1.0          15.135   \n",
       "927             Thanisandra      2 BHK     1000 - 1285   2.0          43.415   \n",
       "959             Kammasandra      1 BHK       650 - 665   1.0          18.410   \n",
       "990                Sarjapur      1 BHK       633 - 666   1.0          17.535   \n",
       "1019         Marathi Layout  1 Bedroom       5.31Acres   1.0         110.000   \n",
       "1086             Narasapura  2 Bedroom         30Acres   2.0          29.500   \n",
       "\n",
       "      bhk  \n",
       "30      4  \n",
       "122     4  \n",
       "137     2  \n",
       "165     2  \n",
       "188     2  \n",
       "410     1  \n",
       "549     2  \n",
       "648     9  \n",
       "661     2  \n",
       "672     4  \n",
       "772     2  \n",
       "775     1  \n",
       "850     2  \n",
       "872     2  \n",
       "886     1  \n",
       "927     2  \n",
       "959     1  \n",
       "990     1  \n",
       "1019    1  \n",
       "1086    2  "
      ]
     },
     "execution_count": 16,
     "metadata": {},
     "output_type": "execute_result"
    }
   ],
   "source": [
    "data3[~data3['total_sqft'].apply(is_float)].head(20)    # finding values those not got converted"
   ]
  },
  {
   "cell_type": "code",
   "execution_count": 17,
   "metadata": {
    "execution": {
     "iopub.execute_input": "2021-01-26T05:55:35.419372Z",
     "iopub.status.busy": "2021-01-26T05:55:35.418559Z",
     "iopub.status.idle": "2021-01-26T05:55:35.425295Z",
     "shell.execute_reply": "2021-01-26T05:55:35.425902Z"
    },
    "papermill": {
     "duration": 0.066987,
     "end_time": "2021-01-26T05:55:35.426163",
     "exception": false,
     "start_time": "2021-01-26T05:55:35.359176",
     "status": "completed"
    },
    "tags": []
   },
   "outputs": [],
   "source": [
    "def convert_sqft_to_sum(x):\n",
    "    '''\n",
    "    Function to convert those unusual format of data\n",
    "    '''\n",
    "    tokens = x.split('-')\n",
    "    if len(tokens) == 2:\n",
    "        return (float(tokens[0]) + float(tokens[1])) / 2\n",
    "    try:\n",
    "        return float(x)\n",
    "    except:\n",
    "        return None"
   ]
  },
  {
   "cell_type": "code",
   "execution_count": 18,
   "metadata": {
    "execution": {
     "iopub.execute_input": "2021-01-26T05:55:35.543991Z",
     "iopub.status.busy": "2021-01-26T05:55:35.543289Z",
     "iopub.status.idle": "2021-01-26T05:55:35.549395Z",
     "shell.execute_reply": "2021-01-26T05:55:35.548828Z"
    },
    "papermill": {
     "duration": 0.066184,
     "end_time": "2021-01-26T05:55:35.549505",
     "exception": false,
     "start_time": "2021-01-26T05:55:35.483321",
     "status": "completed"
    },
    "tags": []
   },
   "outputs": [
    {
     "data": {
      "text/plain": [
       "2475.0"
      ]
     },
     "execution_count": 18,
     "metadata": {},
     "output_type": "execute_result"
    }
   ],
   "source": [
    "convert_sqft_to_sum('2100 - 2850')    # usage of the function"
   ]
  },
  {
   "cell_type": "code",
   "execution_count": 19,
   "metadata": {
    "execution": {
     "iopub.execute_input": "2021-01-26T05:55:35.668826Z",
     "iopub.status.busy": "2021-01-26T05:55:35.667815Z",
     "iopub.status.idle": "2021-01-26T05:55:35.695828Z",
     "shell.execute_reply": "2021-01-26T05:55:35.695062Z"
    },
    "papermill": {
     "duration": 0.089759,
     "end_time": "2021-01-26T05:55:35.695955",
     "exception": false,
     "start_time": "2021-01-26T05:55:35.606196",
     "status": "completed"
    },
    "tags": []
   },
   "outputs": [
    {
     "data": {
      "text/html": [
       "<div>\n",
       "<style scoped>\n",
       "    .dataframe tbody tr th:only-of-type {\n",
       "        vertical-align: middle;\n",
       "    }\n",
       "\n",
       "    .dataframe tbody tr th {\n",
       "        vertical-align: top;\n",
       "    }\n",
       "\n",
       "    .dataframe thead th {\n",
       "        text-align: right;\n",
       "    }\n",
       "</style>\n",
       "<table border=\"1\" class=\"dataframe\">\n",
       "  <thead>\n",
       "    <tr style=\"text-align: right;\">\n",
       "      <th></th>\n",
       "      <th>location</th>\n",
       "      <th>size</th>\n",
       "      <th>total_sqft</th>\n",
       "      <th>bath</th>\n",
       "      <th>price in lakhs</th>\n",
       "      <th>bhk</th>\n",
       "    </tr>\n",
       "  </thead>\n",
       "  <tbody>\n",
       "    <tr>\n",
       "      <th>0</th>\n",
       "      <td>Electronic City Phase II</td>\n",
       "      <td>2 BHK</td>\n",
       "      <td>1056.0</td>\n",
       "      <td>2.0</td>\n",
       "      <td>39.07</td>\n",
       "      <td>2</td>\n",
       "    </tr>\n",
       "    <tr>\n",
       "      <th>1</th>\n",
       "      <td>Chikka Tirupathi</td>\n",
       "      <td>4 Bedroom</td>\n",
       "      <td>2600.0</td>\n",
       "      <td>5.0</td>\n",
       "      <td>120.00</td>\n",
       "      <td>4</td>\n",
       "    </tr>\n",
       "    <tr>\n",
       "      <th>2</th>\n",
       "      <td>Uttarahalli</td>\n",
       "      <td>3 BHK</td>\n",
       "      <td>1440.0</td>\n",
       "      <td>2.0</td>\n",
       "      <td>62.00</td>\n",
       "      <td>3</td>\n",
       "    </tr>\n",
       "    <tr>\n",
       "      <th>3</th>\n",
       "      <td>Lingadheeranahalli</td>\n",
       "      <td>3 BHK</td>\n",
       "      <td>1521.0</td>\n",
       "      <td>3.0</td>\n",
       "      <td>95.00</td>\n",
       "      <td>3</td>\n",
       "    </tr>\n",
       "    <tr>\n",
       "      <th>4</th>\n",
       "      <td>Kothanur</td>\n",
       "      <td>2 BHK</td>\n",
       "      <td>1200.0</td>\n",
       "      <td>2.0</td>\n",
       "      <td>51.00</td>\n",
       "      <td>2</td>\n",
       "    </tr>\n",
       "  </tbody>\n",
       "</table>\n",
       "</div>"
      ],
      "text/plain": [
       "                   location       size  total_sqft  bath  price in lakhs  bhk\n",
       "0  Electronic City Phase II      2 BHK      1056.0   2.0           39.07    2\n",
       "1          Chikka Tirupathi  4 Bedroom      2600.0   5.0          120.00    4\n",
       "2               Uttarahalli      3 BHK      1440.0   2.0           62.00    3\n",
       "3        Lingadheeranahalli      3 BHK      1521.0   3.0           95.00    3\n",
       "4                  Kothanur      2 BHK      1200.0   2.0           51.00    2"
      ]
     },
     "execution_count": 19,
     "metadata": {},
     "output_type": "execute_result"
    }
   ],
   "source": [
    "data4 = data3.copy()\n",
    "data4['total_sqft'] = data4['total_sqft'].apply(convert_sqft_to_sum)\n",
    "data4.head()"
   ]
  },
  {
   "cell_type": "code",
   "execution_count": 20,
   "metadata": {
    "execution": {
     "iopub.execute_input": "2021-01-26T05:55:35.817508Z",
     "iopub.status.busy": "2021-01-26T05:55:35.816468Z",
     "iopub.status.idle": "2021-01-26T05:55:35.823843Z",
     "shell.execute_reply": "2021-01-26T05:55:35.824376Z"
    },
    "papermill": {
     "duration": 0.071149,
     "end_time": "2021-01-26T05:55:35.824518",
     "exception": false,
     "start_time": "2021-01-26T05:55:35.753369",
     "status": "completed"
    },
    "tags": []
   },
   "outputs": [
    {
     "data": {
      "text/plain": [
       "location          Yelahanka\n",
       "size                  4 BHK\n",
       "total_sqft             2475\n",
       "bath                      4\n",
       "price in lakhs          186\n",
       "bhk                       4\n",
       "Name: 30, dtype: object"
      ]
     },
     "execution_count": 20,
     "metadata": {},
     "output_type": "execute_result"
    }
   ],
   "source": [
    "data4.loc[30]    # loc function is used to see data row-wise"
   ]
  },
  {
   "cell_type": "code",
   "execution_count": 21,
   "metadata": {
    "execution": {
     "iopub.execute_input": "2021-01-26T05:55:35.945793Z",
     "iopub.status.busy": "2021-01-26T05:55:35.945104Z",
     "iopub.status.idle": "2021-01-26T05:55:35.958890Z",
     "shell.execute_reply": "2021-01-26T05:55:35.958142Z"
    },
    "papermill": {
     "duration": 0.076408,
     "end_time": "2021-01-26T05:55:35.959022",
     "exception": false,
     "start_time": "2021-01-26T05:55:35.882614",
     "status": "completed"
    },
    "tags": []
   },
   "outputs": [
    {
     "data": {
      "text/html": [
       "<div>\n",
       "<style scoped>\n",
       "    .dataframe tbody tr th:only-of-type {\n",
       "        vertical-align: middle;\n",
       "    }\n",
       "\n",
       "    .dataframe tbody tr th {\n",
       "        vertical-align: top;\n",
       "    }\n",
       "\n",
       "    .dataframe thead th {\n",
       "        text-align: right;\n",
       "    }\n",
       "</style>\n",
       "<table border=\"1\" class=\"dataframe\">\n",
       "  <thead>\n",
       "    <tr style=\"text-align: right;\">\n",
       "      <th></th>\n",
       "      <th>location</th>\n",
       "      <th>size</th>\n",
       "      <th>total_sqft</th>\n",
       "      <th>bath</th>\n",
       "      <th>price in lakhs</th>\n",
       "      <th>bhk</th>\n",
       "    </tr>\n",
       "  </thead>\n",
       "  <tbody>\n",
       "    <tr>\n",
       "      <th>0</th>\n",
       "      <td>Electronic City Phase II</td>\n",
       "      <td>2 BHK</td>\n",
       "      <td>1056.0</td>\n",
       "      <td>2.0</td>\n",
       "      <td>39.07</td>\n",
       "      <td>2</td>\n",
       "    </tr>\n",
       "    <tr>\n",
       "      <th>1</th>\n",
       "      <td>Chikka Tirupathi</td>\n",
       "      <td>4 Bedroom</td>\n",
       "      <td>2600.0</td>\n",
       "      <td>5.0</td>\n",
       "      <td>120.00</td>\n",
       "      <td>4</td>\n",
       "    </tr>\n",
       "    <tr>\n",
       "      <th>2</th>\n",
       "      <td>Uttarahalli</td>\n",
       "      <td>3 BHK</td>\n",
       "      <td>1440.0</td>\n",
       "      <td>2.0</td>\n",
       "      <td>62.00</td>\n",
       "      <td>3</td>\n",
       "    </tr>\n",
       "    <tr>\n",
       "      <th>3</th>\n",
       "      <td>Lingadheeranahalli</td>\n",
       "      <td>3 BHK</td>\n",
       "      <td>1521.0</td>\n",
       "      <td>3.0</td>\n",
       "      <td>95.00</td>\n",
       "      <td>3</td>\n",
       "    </tr>\n",
       "    <tr>\n",
       "      <th>4</th>\n",
       "      <td>Kothanur</td>\n",
       "      <td>2 BHK</td>\n",
       "      <td>1200.0</td>\n",
       "      <td>2.0</td>\n",
       "      <td>51.00</td>\n",
       "      <td>2</td>\n",
       "    </tr>\n",
       "  </tbody>\n",
       "</table>\n",
       "</div>"
      ],
      "text/plain": [
       "                   location       size  total_sqft  bath  price in lakhs  bhk\n",
       "0  Electronic City Phase II      2 BHK      1056.0   2.0           39.07    2\n",
       "1          Chikka Tirupathi  4 Bedroom      2600.0   5.0          120.00    4\n",
       "2               Uttarahalli      3 BHK      1440.0   2.0           62.00    3\n",
       "3        Lingadheeranahalli      3 BHK      1521.0   3.0           95.00    3\n",
       "4                  Kothanur      2 BHK      1200.0   2.0           51.00    2"
      ]
     },
     "execution_count": 21,
     "metadata": {},
     "output_type": "execute_result"
    }
   ],
   "source": [
    "data5 = data4.copy()    # copy function is used to copy the whole dataframe\n",
    "data5.head()"
   ]
  },
  {
   "cell_type": "code",
   "execution_count": 22,
   "metadata": {
    "execution": {
     "iopub.execute_input": "2021-01-26T05:55:36.091643Z",
     "iopub.status.busy": "2021-01-26T05:55:36.081829Z",
     "iopub.status.idle": "2021-01-26T05:55:36.096110Z",
     "shell.execute_reply": "2021-01-26T05:55:36.096562Z"
    },
    "papermill": {
     "duration": 0.079906,
     "end_time": "2021-01-26T05:55:36.096725",
     "exception": false,
     "start_time": "2021-01-26T05:55:36.016819",
     "status": "completed"
    },
    "tags": []
   },
   "outputs": [
    {
     "ename": "KeyError",
     "evalue": "'price'",
     "output_type": "error",
     "traceback": [
      "\u001b[1;31m---------------------------------------------------------------------------\u001b[0m",
      "\u001b[1;31mKeyError\u001b[0m                                  Traceback (most recent call last)",
      "\u001b[1;32mC:\\ProgramData\\Anaconda\\lib\\site-packages\\pandas\\core\\indexes\\base.py\u001b[0m in \u001b[0;36mget_loc\u001b[1;34m(self, key, method, tolerance)\u001b[0m\n\u001b[0;32m   2894\u001b[0m             \u001b[1;32mtry\u001b[0m\u001b[1;33m:\u001b[0m\u001b[1;33m\u001b[0m\u001b[1;33m\u001b[0m\u001b[0m\n\u001b[1;32m-> 2895\u001b[1;33m                 \u001b[1;32mreturn\u001b[0m \u001b[0mself\u001b[0m\u001b[1;33m.\u001b[0m\u001b[0m_engine\u001b[0m\u001b[1;33m.\u001b[0m\u001b[0mget_loc\u001b[0m\u001b[1;33m(\u001b[0m\u001b[0mcasted_key\u001b[0m\u001b[1;33m)\u001b[0m\u001b[1;33m\u001b[0m\u001b[1;33m\u001b[0m\u001b[0m\n\u001b[0m\u001b[0;32m   2896\u001b[0m             \u001b[1;32mexcept\u001b[0m \u001b[0mKeyError\u001b[0m \u001b[1;32mas\u001b[0m \u001b[0merr\u001b[0m\u001b[1;33m:\u001b[0m\u001b[1;33m\u001b[0m\u001b[1;33m\u001b[0m\u001b[0m\n",
      "\u001b[1;32mpandas\\_libs\\index.pyx\u001b[0m in \u001b[0;36mpandas._libs.index.IndexEngine.get_loc\u001b[1;34m()\u001b[0m\n",
      "\u001b[1;32mpandas\\_libs\\index.pyx\u001b[0m in \u001b[0;36mpandas._libs.index.IndexEngine.get_loc\u001b[1;34m()\u001b[0m\n",
      "\u001b[1;32mpandas\\_libs\\hashtable_class_helper.pxi\u001b[0m in \u001b[0;36mpandas._libs.hashtable.PyObjectHashTable.get_item\u001b[1;34m()\u001b[0m\n",
      "\u001b[1;32mpandas\\_libs\\hashtable_class_helper.pxi\u001b[0m in \u001b[0;36mpandas._libs.hashtable.PyObjectHashTable.get_item\u001b[1;34m()\u001b[0m\n",
      "\u001b[1;31mKeyError\u001b[0m: 'price'",
      "\nThe above exception was the direct cause of the following exception:\n",
      "\u001b[1;31mKeyError\u001b[0m                                  Traceback (most recent call last)",
      "\u001b[1;32m<ipython-input-22-c4ceb0d9215e>\u001b[0m in \u001b[0;36m<module>\u001b[1;34m\u001b[0m\n\u001b[1;32m----> 1\u001b[1;33m \u001b[0mdata5\u001b[0m\u001b[1;33m[\u001b[0m\u001b[1;34m'price_per_sqft'\u001b[0m\u001b[1;33m]\u001b[0m \u001b[1;33m=\u001b[0m \u001b[0mdata5\u001b[0m\u001b[1;33m[\u001b[0m\u001b[1;34m'price'\u001b[0m\u001b[1;33m]\u001b[0m \u001b[1;33m*\u001b[0m \u001b[1;36m100000\u001b[0m\u001b[1;33m/\u001b[0m\u001b[0mdata5\u001b[0m\u001b[1;33m[\u001b[0m\u001b[1;34m'total_sqft'\u001b[0m\u001b[1;33m]\u001b[0m    \u001b[1;31m# making a new column in the dataframe named `price_per_sqft` and see the logic to create it\u001b[0m\u001b[1;33m\u001b[0m\u001b[1;33m\u001b[0m\u001b[0m\n\u001b[0m\u001b[0;32m      2\u001b[0m \u001b[0mdata5\u001b[0m\u001b[1;33m.\u001b[0m\u001b[0mhead\u001b[0m\u001b[1;33m(\u001b[0m\u001b[1;33m)\u001b[0m\u001b[1;33m\u001b[0m\u001b[1;33m\u001b[0m\u001b[0m\n",
      "\u001b[1;32mC:\\ProgramData\\Anaconda\\lib\\site-packages\\pandas\\core\\frame.py\u001b[0m in \u001b[0;36m__getitem__\u001b[1;34m(self, key)\u001b[0m\n\u001b[0;32m   2900\u001b[0m             \u001b[1;32mif\u001b[0m \u001b[0mself\u001b[0m\u001b[1;33m.\u001b[0m\u001b[0mcolumns\u001b[0m\u001b[1;33m.\u001b[0m\u001b[0mnlevels\u001b[0m \u001b[1;33m>\u001b[0m \u001b[1;36m1\u001b[0m\u001b[1;33m:\u001b[0m\u001b[1;33m\u001b[0m\u001b[1;33m\u001b[0m\u001b[0m\n\u001b[0;32m   2901\u001b[0m                 \u001b[1;32mreturn\u001b[0m \u001b[0mself\u001b[0m\u001b[1;33m.\u001b[0m\u001b[0m_getitem_multilevel\u001b[0m\u001b[1;33m(\u001b[0m\u001b[0mkey\u001b[0m\u001b[1;33m)\u001b[0m\u001b[1;33m\u001b[0m\u001b[1;33m\u001b[0m\u001b[0m\n\u001b[1;32m-> 2902\u001b[1;33m             \u001b[0mindexer\u001b[0m \u001b[1;33m=\u001b[0m \u001b[0mself\u001b[0m\u001b[1;33m.\u001b[0m\u001b[0mcolumns\u001b[0m\u001b[1;33m.\u001b[0m\u001b[0mget_loc\u001b[0m\u001b[1;33m(\u001b[0m\u001b[0mkey\u001b[0m\u001b[1;33m)\u001b[0m\u001b[1;33m\u001b[0m\u001b[1;33m\u001b[0m\u001b[0m\n\u001b[0m\u001b[0;32m   2903\u001b[0m             \u001b[1;32mif\u001b[0m \u001b[0mis_integer\u001b[0m\u001b[1;33m(\u001b[0m\u001b[0mindexer\u001b[0m\u001b[1;33m)\u001b[0m\u001b[1;33m:\u001b[0m\u001b[1;33m\u001b[0m\u001b[1;33m\u001b[0m\u001b[0m\n\u001b[0;32m   2904\u001b[0m                 \u001b[0mindexer\u001b[0m \u001b[1;33m=\u001b[0m \u001b[1;33m[\u001b[0m\u001b[0mindexer\u001b[0m\u001b[1;33m]\u001b[0m\u001b[1;33m\u001b[0m\u001b[1;33m\u001b[0m\u001b[0m\n",
      "\u001b[1;32mC:\\ProgramData\\Anaconda\\lib\\site-packages\\pandas\\core\\indexes\\base.py\u001b[0m in \u001b[0;36mget_loc\u001b[1;34m(self, key, method, tolerance)\u001b[0m\n\u001b[0;32m   2895\u001b[0m                 \u001b[1;32mreturn\u001b[0m \u001b[0mself\u001b[0m\u001b[1;33m.\u001b[0m\u001b[0m_engine\u001b[0m\u001b[1;33m.\u001b[0m\u001b[0mget_loc\u001b[0m\u001b[1;33m(\u001b[0m\u001b[0mcasted_key\u001b[0m\u001b[1;33m)\u001b[0m\u001b[1;33m\u001b[0m\u001b[1;33m\u001b[0m\u001b[0m\n\u001b[0;32m   2896\u001b[0m             \u001b[1;32mexcept\u001b[0m \u001b[0mKeyError\u001b[0m \u001b[1;32mas\u001b[0m \u001b[0merr\u001b[0m\u001b[1;33m:\u001b[0m\u001b[1;33m\u001b[0m\u001b[1;33m\u001b[0m\u001b[0m\n\u001b[1;32m-> 2897\u001b[1;33m                 \u001b[1;32mraise\u001b[0m \u001b[0mKeyError\u001b[0m\u001b[1;33m(\u001b[0m\u001b[0mkey\u001b[0m\u001b[1;33m)\u001b[0m \u001b[1;32mfrom\u001b[0m \u001b[0merr\u001b[0m\u001b[1;33m\u001b[0m\u001b[1;33m\u001b[0m\u001b[0m\n\u001b[0m\u001b[0;32m   2898\u001b[0m \u001b[1;33m\u001b[0m\u001b[0m\n\u001b[0;32m   2899\u001b[0m         \u001b[1;32mif\u001b[0m \u001b[0mtolerance\u001b[0m \u001b[1;32mis\u001b[0m \u001b[1;32mnot\u001b[0m \u001b[1;32mNone\u001b[0m\u001b[1;33m:\u001b[0m\u001b[1;33m\u001b[0m\u001b[1;33m\u001b[0m\u001b[0m\n",
      "\u001b[1;31mKeyError\u001b[0m: 'price'"
     ]
    }
   ],
   "source": [
    "data5['price_per_sqft'] = data5['price'] * 100000/data5['total_sqft']    # making a new column in the dataframe named `price_per_sqft` and see the logic to create it\n",
    "data5.head()"
   ]
  },
  {
   "cell_type": "code",
   "execution_count": null,
   "metadata": {
    "execution": {
     "iopub.execute_input": "2021-01-26T05:55:36.221316Z",
     "iopub.status.busy": "2021-01-26T05:55:36.220603Z",
     "iopub.status.idle": "2021-01-26T05:55:36.225966Z",
     "shell.execute_reply": "2021-01-26T05:55:36.226482Z"
    },
    "papermill": {
     "duration": 0.070803,
     "end_time": "2021-01-26T05:55:36.226623",
     "exception": false,
     "start_time": "2021-01-26T05:55:36.155820",
     "status": "completed"
    },
    "tags": []
   },
   "outputs": [],
   "source": [
    "len(data5.location.unique())"
   ]
  },
  {
   "cell_type": "code",
   "execution_count": null,
   "metadata": {
    "execution": {
     "iopub.execute_input": "2021-01-26T05:55:36.356404Z",
     "iopub.status.busy": "2021-01-26T05:55:36.350908Z",
     "iopub.status.idle": "2021-01-26T05:55:36.369947Z",
     "shell.execute_reply": "2021-01-26T05:55:36.369247Z"
    },
    "papermill": {
     "duration": 0.083609,
     "end_time": "2021-01-26T05:55:36.370065",
     "exception": false,
     "start_time": "2021-01-26T05:55:36.286456",
     "status": "completed"
    },
    "tags": []
   },
   "outputs": [],
   "source": [
    "data5.location = data5.location.apply(lambda x : x.strip())    # strip is used to remove the white spaces around the data points\n",
    "\n",
    "location_stats = data5.groupby('location')['location'].agg('count').sort_values(ascending=False)    # sorting the location column in descending order\n",
    "location_stats"
   ]
  },
  {
   "cell_type": "code",
   "execution_count": null,
   "metadata": {
    "execution": {
     "iopub.execute_input": "2021-01-26T05:55:36.495925Z",
     "iopub.status.busy": "2021-01-26T05:55:36.494857Z",
     "iopub.status.idle": "2021-01-26T05:55:36.499602Z",
     "shell.execute_reply": "2021-01-26T05:55:36.498946Z"
    },
    "papermill": {
     "duration": 0.070027,
     "end_time": "2021-01-26T05:55:36.499735",
     "exception": false,
     "start_time": "2021-01-26T05:55:36.429708",
     "status": "completed"
    },
    "tags": []
   },
   "outputs": [],
   "source": [
    "len(location_stats[location_stats<=10])    # totaling the minor locations"
   ]
  },
  {
   "cell_type": "code",
   "execution_count": null,
   "metadata": {
    "execution": {
     "iopub.execute_input": "2021-01-26T05:55:36.628521Z",
     "iopub.status.busy": "2021-01-26T05:55:36.627472Z",
     "iopub.status.idle": "2021-01-26T05:55:36.632139Z",
     "shell.execute_reply": "2021-01-26T05:55:36.632590Z"
    },
    "papermill": {
     "duration": 0.072401,
     "end_time": "2021-01-26T05:55:36.632754",
     "exception": false,
     "start_time": "2021-01-26T05:55:36.560353",
     "status": "completed"
    },
    "tags": []
   },
   "outputs": [],
   "source": [
    "location_stats_less_than_10 = location_stats[location_stats<=10]\n",
    "location_stats_less_than_10"
   ]
  },
  {
   "cell_type": "code",
   "execution_count": null,
   "metadata": {
    "execution": {
     "iopub.execute_input": "2021-01-26T05:55:36.759495Z",
     "iopub.status.busy": "2021-01-26T05:55:36.758330Z",
     "iopub.status.idle": "2021-01-26T05:55:36.787821Z",
     "shell.execute_reply": "2021-01-26T05:55:36.788349Z"
    },
    "papermill": {
     "duration": 0.095179,
     "end_time": "2021-01-26T05:55:36.788514",
     "exception": false,
     "start_time": "2021-01-26T05:55:36.693335",
     "status": "completed"
    },
    "tags": []
   },
   "outputs": [],
   "source": [
    "data5.location = data5.location.apply(lambda x: 'other' if x in location_stats_less_than_10 else x)    # changing minor locations into `other`"
   ]
  },
  {
   "cell_type": "code",
   "execution_count": null,
   "metadata": {
    "execution": {
     "iopub.execute_input": "2021-01-26T05:55:36.915170Z",
     "iopub.status.busy": "2021-01-26T05:55:36.914105Z",
     "iopub.status.idle": "2021-01-26T05:55:36.921573Z",
     "shell.execute_reply": "2021-01-26T05:55:36.922065Z"
    },
    "papermill": {
     "duration": 0.072546,
     "end_time": "2021-01-26T05:55:36.922217",
     "exception": false,
     "start_time": "2021-01-26T05:55:36.849671",
     "status": "completed"
    },
    "tags": []
   },
   "outputs": [],
   "source": [
    "len(data5.location.unique())"
   ]
  },
  {
   "cell_type": "code",
   "execution_count": null,
   "metadata": {
    "execution": {
     "iopub.execute_input": "2021-01-26T05:55:37.050978Z",
     "iopub.status.busy": "2021-01-26T05:55:37.049957Z",
     "iopub.status.idle": "2021-01-26T05:55:37.068472Z",
     "shell.execute_reply": "2021-01-26T05:55:37.068968Z"
    },
    "papermill": {
     "duration": 0.085888,
     "end_time": "2021-01-26T05:55:37.069128",
     "exception": false,
     "start_time": "2021-01-26T05:55:36.983240",
     "status": "completed"
    },
    "tags": []
   },
   "outputs": [],
   "source": [
    "data5[data5.total_sqft / data5.bhk < 300].head()    # checking for outliners; like a house with 1407 sq. area can't have 6 bedrooms"
   ]
  },
  {
   "cell_type": "code",
   "execution_count": null,
   "metadata": {
    "execution": {
     "iopub.execute_input": "2021-01-26T05:55:37.199182Z",
     "iopub.status.busy": "2021-01-26T05:55:37.198128Z",
     "iopub.status.idle": "2021-01-26T05:55:37.205882Z",
     "shell.execute_reply": "2021-01-26T05:55:37.205118Z"
    },
    "papermill": {
     "duration": 0.074784,
     "end_time": "2021-01-26T05:55:37.206013",
     "exception": false,
     "start_time": "2021-01-26T05:55:37.131229",
     "status": "completed"
    },
    "tags": []
   },
   "outputs": [],
   "source": [
    "data5.shape"
   ]
  },
  {
   "cell_type": "code",
   "execution_count": null,
   "metadata": {
    "execution": {
     "iopub.execute_input": "2021-01-26T05:55:37.340930Z",
     "iopub.status.busy": "2021-01-26T05:55:37.340115Z",
     "iopub.status.idle": "2021-01-26T05:55:37.345614Z",
     "shell.execute_reply": "2021-01-26T05:55:37.344971Z"
    },
    "papermill": {
     "duration": 0.075348,
     "end_time": "2021-01-26T05:55:37.345758",
     "exception": false,
     "start_time": "2021-01-26T05:55:37.270410",
     "status": "completed"
    },
    "tags": []
   },
   "outputs": [],
   "source": [
    "data6 = data5[~(data5.total_sqft/data5.bhk<300)]"
   ]
  },
  {
   "cell_type": "code",
   "execution_count": null,
   "metadata": {
    "execution": {
     "iopub.execute_input": "2021-01-26T05:55:37.477828Z",
     "iopub.status.busy": "2021-01-26T05:55:37.477102Z",
     "iopub.status.idle": "2021-01-26T05:55:37.486975Z",
     "shell.execute_reply": "2021-01-26T05:55:37.487528Z"
    },
    "papermill": {
     "duration": 0.078872,
     "end_time": "2021-01-26T05:55:37.487671",
     "exception": false,
     "start_time": "2021-01-26T05:55:37.408799",
     "status": "completed"
    },
    "tags": []
   },
   "outputs": [],
   "source": [
    "data6.price_per_sqft.describe()"
   ]
  },
  {
   "cell_type": "code",
   "execution_count": null,
   "metadata": {
    "execution": {
     "iopub.execute_input": "2021-01-26T05:55:37.618544Z",
     "iopub.status.busy": "2021-01-26T05:55:37.617817Z",
     "iopub.status.idle": "2021-01-26T05:55:37.624094Z",
     "shell.execute_reply": "2021-01-26T05:55:37.623535Z"
    },
    "papermill": {
     "duration": 0.0731,
     "end_time": "2021-01-26T05:55:37.624206",
     "exception": false,
     "start_time": "2021-01-26T05:55:37.551106",
     "status": "completed"
    },
    "tags": []
   },
   "outputs": [],
   "source": [
    "data6.shape"
   ]
  },
  {
   "cell_type": "markdown",
   "metadata": {
    "papermill": {
     "duration": 0.063512,
     "end_time": "2021-01-26T05:55:37.751128",
     "exception": false,
     "start_time": "2021-01-26T05:55:37.687616",
     "status": "completed"
    },
    "tags": []
   },
   "source": [
    "# 4. Data Cleaning\n",
    "In this section, we will find outliers and try to remove them."
   ]
  },
  {
   "cell_type": "code",
   "execution_count": null,
   "metadata": {
    "execution": {
     "iopub.execute_input": "2021-01-26T05:55:37.889329Z",
     "iopub.status.busy": "2021-01-26T05:55:37.888400Z",
     "iopub.status.idle": "2021-01-26T05:55:37.891586Z",
     "shell.execute_reply": "2021-01-26T05:55:37.890930Z"
    },
    "papermill": {
     "duration": 0.075548,
     "end_time": "2021-01-26T05:55:37.891741",
     "exception": false,
     "start_time": "2021-01-26T05:55:37.816193",
     "status": "completed"
    },
    "tags": []
   },
   "outputs": [],
   "source": [
    "def remove_pps_outliers(df):\n",
    "    '''\n",
    "    Function to clear stuff (outliers) in the price_per_sqft column so that we don't live in a hypothetical dataset. 😄\n",
    "    '''\n",
    "    df_out = pd.DataFrame()\n",
    "    for key, subdf in df.groupby('location'):\n",
    "        m = np.mean(subdf.price_per_sqft)\n",
    "        st = np.std(subdf.price_per_sqft)\n",
    "        reduced_df = subdf[(subdf.price_per_sqft>(m-st)) & (subdf.price_per_sqft<=(m+st))]\n",
    "        df_out = pd.concat([df_out,reduced_df],ignore_index=True)\n",
    "    return df_out\n",
    "        "
   ]
  },
  {
   "cell_type": "code",
   "execution_count": null,
   "metadata": {
    "execution": {
     "iopub.execute_input": "2021-01-26T05:55:38.027853Z",
     "iopub.status.busy": "2021-01-26T05:55:38.027028Z",
     "iopub.status.idle": "2021-01-26T05:55:38.746388Z",
     "shell.execute_reply": "2021-01-26T05:55:38.745590Z"
    },
    "papermill": {
     "duration": 0.790543,
     "end_time": "2021-01-26T05:55:38.746518",
     "exception": false,
     "start_time": "2021-01-26T05:55:37.955975",
     "status": "completed"
    },
    "tags": []
   },
   "outputs": [],
   "source": [
    "data7 = remove_pps_outliers(data6)\n",
    "data7.shape"
   ]
  },
  {
   "cell_type": "code",
   "execution_count": null,
   "metadata": {
    "execution": {
     "iopub.execute_input": "2021-01-26T05:55:38.888259Z",
     "iopub.status.busy": "2021-01-26T05:55:38.883190Z",
     "iopub.status.idle": "2021-01-26T05:55:38.892482Z",
     "shell.execute_reply": "2021-01-26T05:55:38.891865Z"
    },
    "papermill": {
     "duration": 0.081697,
     "end_time": "2021-01-26T05:55:38.892590",
     "exception": false,
     "start_time": "2021-01-26T05:55:38.810893",
     "status": "completed"
    },
    "tags": []
   },
   "outputs": [],
   "source": [
    "data7.head()"
   ]
  },
  {
   "cell_type": "code",
   "execution_count": null,
   "metadata": {
    "execution": {
     "iopub.execute_input": "2021-01-26T05:55:39.035714Z",
     "iopub.status.busy": "2021-01-26T05:55:39.033965Z",
     "iopub.status.idle": "2021-01-26T05:55:39.854105Z",
     "shell.execute_reply": "2021-01-26T05:55:39.853115Z"
    },
    "papermill": {
     "duration": 0.896616,
     "end_time": "2021-01-26T05:55:39.854232",
     "exception": false,
     "start_time": "2021-01-26T05:55:38.957616",
     "status": "completed"
    },
    "tags": []
   },
   "outputs": [],
   "source": [
    "def remove_bhk_outliers(df):\n",
    "    '''\n",
    "    Function to clear stuff (outliers) in the bhk column so that we don't live in a hypothetical dataset. 😄\n",
    "    '''\n",
    "    exclude_indices = np.array([])\n",
    "    for location, location_df in df.groupby('location'):\n",
    "        bhk_stats = {}\n",
    "        for bhk, bhk_df in location_df.groupby('bhk'):\n",
    "            bhk_stats[bhk] = {\n",
    "                'mean': np.mean(bhk_df.price_per_sqft),\n",
    "                'std': np.std(bhk_df.price_per_sqft),\n",
    "                'count': bhk_df.shape[0]\n",
    "            }\n",
    "        for bhk, bhk_df in location_df.groupby('bhk'):\n",
    "            stats = bhk_stats.get(bhk-1)\n",
    "            if stats and stats['count']>5:\n",
    "                exclude_indices = np.append(exclude_indices, bhk_df[bhk_df.price_per_sqft<(stats['mean'])].index.values)\n",
    "    return df.drop(exclude_indices,axis='index')\n",
    "\n",
    "data8 = remove_bhk_outliers(data7)\n",
    "data8.shape"
   ]
  },
  {
   "cell_type": "markdown",
   "metadata": {
    "papermill": {
     "duration": 0.066143,
     "end_time": "2021-01-26T05:55:39.988012",
     "exception": false,
     "start_time": "2021-01-26T05:55:39.921869",
     "status": "completed"
    },
    "tags": []
   },
   "source": [
    "# 5. Data Visualization\n",
    "Time to visualize our data"
   ]
  },
  {
   "cell_type": "code",
   "execution_count": null,
   "metadata": {
    "execution": {
     "iopub.execute_input": "2021-01-26T05:55:40.131838Z",
     "iopub.status.busy": "2021-01-26T05:55:40.131012Z",
     "iopub.status.idle": "2021-01-26T05:55:40.133814Z",
     "shell.execute_reply": "2021-01-26T05:55:40.134284Z"
    },
    "papermill": {
     "duration": 0.078893,
     "end_time": "2021-01-26T05:55:40.134429",
     "exception": false,
     "start_time": "2021-01-26T05:55:40.055536",
     "status": "completed"
    },
    "tags": []
   },
   "outputs": [],
   "source": [
    "def plot_scatter_chart(df,location):\n",
    "    '''\n",
    "    Function that will help us to visualize the data of the different locations \n",
    "    '''\n",
    "    bhk2 = df[(df.location==location) & (df.bhk==2)]\n",
    "    bhk3 = df[(df.location==location) & (df.bhk==3)]\n",
    "    matplotlib.rcParams['figure.figsize'] = (15, 10)\n",
    "    plt.scatter(bhk2.total_sqft, bhk2.price,color='blue', label='2 BHK', s=50)\n",
    "    plt.scatter(bhk3.total_sqft, bhk3.price,marker='+',color='green', label='3 BHK', s=50)\n",
    "    plt.xlabel('Total Square Feet Area')\n",
    "    plt.ylabel('Price Per Square Feet')\n",
    "    plt.title(location)\n",
    "    plt.legend()"
   ]
  },
  {
   "cell_type": "code",
   "execution_count": null,
   "metadata": {
    "execution": {
     "iopub.execute_input": "2021-01-26T05:55:40.278600Z",
     "iopub.status.busy": "2021-01-26T05:55:40.277885Z",
     "iopub.status.idle": "2021-01-26T05:55:40.568597Z",
     "shell.execute_reply": "2021-01-26T05:55:40.568043Z"
    },
    "papermill": {
     "duration": 0.367355,
     "end_time": "2021-01-26T05:55:40.568725",
     "exception": false,
     "start_time": "2021-01-26T05:55:40.201370",
     "status": "completed"
    },
    "tags": []
   },
   "outputs": [],
   "source": [
    "plot_scatter_chart(data7, 'Whitefield')"
   ]
  },
  {
   "cell_type": "code",
   "execution_count": null,
   "metadata": {
    "execution": {
     "iopub.execute_input": "2021-01-26T05:55:40.712277Z",
     "iopub.status.busy": "2021-01-26T05:55:40.711503Z",
     "iopub.status.idle": "2021-01-26T05:55:40.916500Z",
     "shell.execute_reply": "2021-01-26T05:55:40.915825Z"
    },
    "papermill": {
     "duration": 0.281153,
     "end_time": "2021-01-26T05:55:40.916613",
     "exception": false,
     "start_time": "2021-01-26T05:55:40.635460",
     "status": "completed"
    },
    "tags": []
   },
   "outputs": [],
   "source": [
    "plot_scatter_chart(data7,\"Hebbal\")"
   ]
  },
  {
   "cell_type": "code",
   "execution_count": null,
   "metadata": {
    "execution": {
     "iopub.execute_input": "2021-01-26T05:55:41.066944Z",
     "iopub.status.busy": "2021-01-26T05:55:41.066262Z",
     "iopub.status.idle": "2021-01-26T05:55:41.256548Z",
     "shell.execute_reply": "2021-01-26T05:55:41.255954Z"
    },
    "papermill": {
     "duration": 0.27009,
     "end_time": "2021-01-26T05:55:41.256662",
     "exception": false,
     "start_time": "2021-01-26T05:55:40.986572",
     "status": "completed"
    },
    "tags": []
   },
   "outputs": [],
   "source": [
    "plt.hist(data8.price_per_sqft, rwidth=0.8)    # visualization the price_per_sqft column\n",
    "plt.xlabel('Price per Square Feet')\n",
    "plt.ylabel('Count')"
   ]
  },
  {
   "cell_type": "code",
   "execution_count": null,
   "metadata": {
    "execution": {
     "iopub.execute_input": "2021-01-26T05:55:41.402892Z",
     "iopub.status.busy": "2021-01-26T05:55:41.402218Z",
     "iopub.status.idle": "2021-01-26T05:55:41.406745Z",
     "shell.execute_reply": "2021-01-26T05:55:41.405985Z"
    },
    "papermill": {
     "duration": 0.079599,
     "end_time": "2021-01-26T05:55:41.406868",
     "exception": false,
     "start_time": "2021-01-26T05:55:41.327269",
     "status": "completed"
    },
    "tags": []
   },
   "outputs": [],
   "source": [
    "data8.bath.unique()"
   ]
  },
  {
   "cell_type": "code",
   "execution_count": null,
   "metadata": {
    "execution": {
     "iopub.execute_input": "2021-01-26T05:55:41.563977Z",
     "iopub.status.busy": "2021-01-26T05:55:41.563292Z",
     "iopub.status.idle": "2021-01-26T05:55:41.567390Z",
     "shell.execute_reply": "2021-01-26T05:55:41.566784Z"
    },
    "papermill": {
     "duration": 0.089325,
     "end_time": "2021-01-26T05:55:41.567560",
     "exception": false,
     "start_time": "2021-01-26T05:55:41.478235",
     "status": "completed"
    },
    "tags": []
   },
   "outputs": [],
   "source": [
    "data8[data8.bath>10]    # Again some idiot outliers😆"
   ]
  },
  {
   "cell_type": "code",
   "execution_count": null,
   "metadata": {
    "execution": {
     "iopub.execute_input": "2021-01-26T05:55:41.807400Z",
     "iopub.status.busy": "2021-01-26T05:55:41.715616Z",
     "iopub.status.idle": "2021-01-26T05:55:41.996340Z",
     "shell.execute_reply": "2021-01-26T05:55:41.995773Z"
    },
    "papermill": {
     "duration": 0.357606,
     "end_time": "2021-01-26T05:55:41.996456",
     "exception": false,
     "start_time": "2021-01-26T05:55:41.638850",
     "status": "completed"
    },
    "tags": []
   },
   "outputs": [],
   "source": [
    "plt.hist(data8.bath, rwidth=0.8)\n",
    "plt.xlabel('Number of bathrooms')\n",
    "plt.ylabel('Count')"
   ]
  },
  {
   "cell_type": "code",
   "execution_count": null,
   "metadata": {
    "execution": {
     "iopub.execute_input": "2021-01-26T05:55:42.156471Z",
     "iopub.status.busy": "2021-01-26T05:55:42.151853Z",
     "iopub.status.idle": "2021-01-26T05:55:42.159555Z",
     "shell.execute_reply": "2021-01-26T05:55:42.160122Z"
    },
    "papermill": {
     "duration": 0.091505,
     "end_time": "2021-01-26T05:55:42.160273",
     "exception": false,
     "start_time": "2021-01-26T05:55:42.068768",
     "status": "completed"
    },
    "tags": []
   },
   "outputs": [],
   "source": [
    "data8[data8.bath > data8.bhk + 2]   "
   ]
  },
  {
   "cell_type": "code",
   "execution_count": null,
   "metadata": {
    "execution": {
     "iopub.execute_input": "2021-01-26T05:55:42.311160Z",
     "iopub.status.busy": "2021-01-26T05:55:42.310322Z",
     "iopub.status.idle": "2021-01-26T05:55:42.317462Z",
     "shell.execute_reply": "2021-01-26T05:55:42.317989Z"
    },
    "papermill": {
     "duration": 0.085042,
     "end_time": "2021-01-26T05:55:42.318133",
     "exception": false,
     "start_time": "2021-01-26T05:55:42.233091",
     "status": "completed"
    },
    "tags": []
   },
   "outputs": [],
   "source": [
    "data9 = data8[data8.bath < data8.bhk + 2]\n",
    "data9.shape"
   ]
  },
  {
   "cell_type": "code",
   "execution_count": null,
   "metadata": {
    "execution": {
     "iopub.execute_input": "2021-01-26T05:55:42.468795Z",
     "iopub.status.busy": "2021-01-26T05:55:42.468076Z",
     "iopub.status.idle": "2021-01-26T05:55:42.481029Z",
     "shell.execute_reply": "2021-01-26T05:55:42.481588Z"
    },
    "papermill": {
     "duration": 0.090188,
     "end_time": "2021-01-26T05:55:42.481764",
     "exception": false,
     "start_time": "2021-01-26T05:55:42.391576",
     "status": "completed"
    },
    "tags": []
   },
   "outputs": [],
   "source": [
    "data9.sample()    # sample return a random row from the dataset"
   ]
  },
  {
   "cell_type": "code",
   "execution_count": null,
   "metadata": {
    "execution": {
     "iopub.execute_input": "2021-01-26T05:55:42.636562Z",
     "iopub.status.busy": "2021-01-26T05:55:42.635886Z",
     "iopub.status.idle": "2021-01-26T05:55:42.649729Z",
     "shell.execute_reply": "2021-01-26T05:55:42.650374Z"
    },
    "papermill": {
     "duration": 0.091413,
     "end_time": "2021-01-26T05:55:42.650528",
     "exception": false,
     "start_time": "2021-01-26T05:55:42.559115",
     "status": "completed"
    },
    "tags": []
   },
   "outputs": [],
   "source": [
    "data10 = data9.drop(['size',\"price_per_sqft\"],axis='columns')    # removing or dropping 'size' and 'prize_per_sqft' as we don't require them any more\n",
    "data10.head()"
   ]
  },
  {
   "cell_type": "markdown",
   "metadata": {
    "papermill": {
     "duration": 0.074195,
     "end_time": "2021-01-26T05:55:42.799790",
     "exception": false,
     "start_time": "2021-01-26T05:55:42.725595",
     "status": "completed"
    },
    "tags": []
   },
   "source": [
    "# 6. Creating Dummies\n",
    "We will use pandas' `get_dummies()` to create dummies variables.\n",
    "It is used for data manipulation. It converts categorical data into dummy or indicator variables."
   ]
  },
  {
   "cell_type": "code",
   "execution_count": null,
   "metadata": {
    "execution": {
     "iopub.execute_input": "2021-01-26T05:55:42.953931Z",
     "iopub.status.busy": "2021-01-26T05:55:42.953153Z",
     "iopub.status.idle": "2021-01-26T05:55:42.975496Z",
     "shell.execute_reply": "2021-01-26T05:55:42.976066Z"
    },
    "papermill": {
     "duration": 0.10043,
     "end_time": "2021-01-26T05:55:42.976219",
     "exception": false,
     "start_time": "2021-01-26T05:55:42.875789",
     "status": "completed"
    },
    "tags": []
   },
   "outputs": [],
   "source": [
    "dummies = pd.get_dummies(data10.location)     \n",
    "dummies.head()"
   ]
  },
  {
   "cell_type": "code",
   "execution_count": null,
   "metadata": {
    "execution": {
     "iopub.execute_input": "2021-01-26T05:55:43.131707Z",
     "iopub.status.busy": "2021-01-26T05:55:43.131001Z",
     "iopub.status.idle": "2021-01-26T05:55:43.165327Z",
     "shell.execute_reply": "2021-01-26T05:55:43.164772Z"
    },
    "papermill": {
     "duration": 0.113801,
     "end_time": "2021-01-26T05:55:43.165449",
     "exception": false,
     "start_time": "2021-01-26T05:55:43.051648",
     "status": "completed"
    },
    "tags": []
   },
   "outputs": [],
   "source": [
    "data11 = pd.concat([data10, dummies.drop('other', axis='columns')], axis='columns')    # joining the dummy values again with the dataset except 'other' column\n",
    "data11.head()"
   ]
  },
  {
   "cell_type": "code",
   "execution_count": null,
   "metadata": {
    "execution": {
     "iopub.execute_input": "2021-01-26T05:55:43.327067Z",
     "iopub.status.busy": "2021-01-26T05:55:43.326267Z",
     "iopub.status.idle": "2021-01-26T05:55:43.349494Z",
     "shell.execute_reply": "2021-01-26T05:55:43.348728Z"
    },
    "papermill": {
     "duration": 0.107549,
     "end_time": "2021-01-26T05:55:43.349623",
     "exception": false,
     "start_time": "2021-01-26T05:55:43.242074",
     "status": "completed"
    },
    "tags": []
   },
   "outputs": [],
   "source": [
    "data12 = data11.drop('location', axis='columns')    # dropping original location as now we have dummmies in its place.\n",
    "data12.head()"
   ]
  },
  {
   "cell_type": "markdown",
   "metadata": {
    "papermill": {
     "duration": 0.078083,
     "end_time": "2021-01-26T05:55:43.504568",
     "exception": false,
     "start_time": "2021-01-26T05:55:43.426485",
     "status": "completed"
    },
    "tags": []
   },
   "source": [
    "# 7. Splitting Data for Training and Testing\n",
    "Before Training the model, it is required to split the data into train and test data. For this we will use, sklearn's `train_test_split`\n"
   ]
  },
  {
   "cell_type": "code",
   "execution_count": null,
   "metadata": {
    "execution": {
     "iopub.execute_input": "2021-01-26T05:55:43.666195Z",
     "iopub.status.busy": "2021-01-26T05:55:43.665505Z",
     "iopub.status.idle": "2021-01-26T05:55:43.687971Z",
     "shell.execute_reply": "2021-01-26T05:55:43.687282Z"
    },
    "papermill": {
     "duration": 0.106169,
     "end_time": "2021-01-26T05:55:43.688093",
     "exception": false,
     "start_time": "2021-01-26T05:55:43.581924",
     "status": "completed"
    },
    "tags": []
   },
   "outputs": [],
   "source": [
    "X = data12.drop('price', axis='columns')    # dropping price column as we don't want it in our train dataset\n",
    "X.head()"
   ]
  },
  {
   "cell_type": "code",
   "execution_count": null,
   "metadata": {
    "execution": {
     "iopub.execute_input": "2021-01-26T05:55:43.847508Z",
     "iopub.status.busy": "2021-01-26T05:55:43.846828Z",
     "iopub.status.idle": "2021-01-26T05:55:43.854061Z",
     "shell.execute_reply": "2021-01-26T05:55:43.853378Z"
    },
    "papermill": {
     "duration": 0.088759,
     "end_time": "2021-01-26T05:55:43.854191",
     "exception": false,
     "start_time": "2021-01-26T05:55:43.765432",
     "status": "completed"
    },
    "tags": []
   },
   "outputs": [],
   "source": [
    "X.shape"
   ]
  },
  {
   "cell_type": "code",
   "execution_count": null,
   "metadata": {
    "execution": {
     "iopub.execute_input": "2021-01-26T05:55:44.018398Z",
     "iopub.status.busy": "2021-01-26T05:55:44.017393Z",
     "iopub.status.idle": "2021-01-26T05:55:44.021048Z",
     "shell.execute_reply": "2021-01-26T05:55:44.020486Z"
    },
    "papermill": {
     "duration": 0.087363,
     "end_time": "2021-01-26T05:55:44.021174",
     "exception": false,
     "start_time": "2021-01-26T05:55:43.933811",
     "status": "completed"
    },
    "tags": []
   },
   "outputs": [],
   "source": [
    "y = data12.price    # taking the price column as our target to predict"
   ]
  },
  {
   "cell_type": "code",
   "execution_count": null,
   "metadata": {
    "execution": {
     "iopub.execute_input": "2021-01-26T05:55:44.186476Z",
     "iopub.status.busy": "2021-01-26T05:55:44.185791Z",
     "iopub.status.idle": "2021-01-26T05:55:44.189656Z",
     "shell.execute_reply": "2021-01-26T05:55:44.189042Z"
    },
    "papermill": {
     "duration": 0.088369,
     "end_time": "2021-01-26T05:55:44.189797",
     "exception": false,
     "start_time": "2021-01-26T05:55:44.101428",
     "status": "completed"
    },
    "tags": []
   },
   "outputs": [],
   "source": [
    "y.shape"
   ]
  },
  {
   "cell_type": "code",
   "execution_count": null,
   "metadata": {
    "execution": {
     "iopub.execute_input": "2021-01-26T05:55:44.356998Z",
     "iopub.status.busy": "2021-01-26T05:55:44.356271Z",
     "iopub.status.idle": "2021-01-26T05:55:44.365019Z",
     "shell.execute_reply": "2021-01-26T05:55:44.364284Z"
    },
    "papermill": {
     "duration": 0.095807,
     "end_time": "2021-01-26T05:55:44.365147",
     "exception": false,
     "start_time": "2021-01-26T05:55:44.269340",
     "status": "completed"
    },
    "tags": []
   },
   "outputs": [],
   "source": [
    "X_train, X_test, y_train, y_test = train_test_split(X, y, test_size=0.2, random_state=10)    # splitting the the data into train and test data as 80 : 20 ratio"
   ]
  },
  {
   "cell_type": "code",
   "execution_count": null,
   "metadata": {
    "execution": {
     "iopub.execute_input": "2021-01-26T05:55:44.531035Z",
     "iopub.status.busy": "2021-01-26T05:55:44.530002Z",
     "iopub.status.idle": "2021-01-26T05:55:44.534092Z",
     "shell.execute_reply": "2021-01-26T05:55:44.534540Z"
    },
    "papermill": {
     "duration": 0.089725,
     "end_time": "2021-01-26T05:55:44.534715",
     "exception": false,
     "start_time": "2021-01-26T05:55:44.444990",
     "status": "completed"
    },
    "tags": []
   },
   "outputs": [],
   "source": [
    "X_train.shape"
   ]
  },
  {
   "cell_type": "markdown",
   "metadata": {
    "papermill": {
     "duration": 0.081311,
     "end_time": "2021-01-26T05:55:44.696182",
     "exception": false,
     "start_time": "2021-01-26T05:55:44.614871",
     "status": "completed"
    },
    "tags": []
   },
   "source": [
    "# 8. Training the Models\n",
    "Preciesly, we will be trying more than one model, therefore, Training the `Models`"
   ]
  },
  {
   "cell_type": "code",
   "execution_count": null,
   "metadata": {
    "execution": {
     "iopub.execute_input": "2021-01-26T05:55:44.860412Z",
     "iopub.status.busy": "2021-01-26T05:55:44.859406Z",
     "iopub.status.idle": "2021-01-26T05:55:44.997005Z",
     "shell.execute_reply": "2021-01-26T05:55:44.997593Z"
    },
    "papermill": {
     "duration": 0.22134,
     "end_time": "2021-01-26T05:55:44.997791",
     "exception": false,
     "start_time": "2021-01-26T05:55:44.776451",
     "status": "completed"
    },
    "tags": []
   },
   "outputs": [],
   "source": [
    "lr_clf = LinearRegression()     # first trying training with LinearRegression \n",
    "lr_clf.fit(X_train, y_train) #Training the dataset\n",
    "lr_clf.score(X_test, y_test) "
   ]
  },
  {
   "cell_type": "code",
   "execution_count": null,
   "metadata": {
    "execution": {
     "iopub.execute_input": "2021-01-26T05:55:45.200842Z",
     "iopub.status.busy": "2021-01-26T05:55:45.199762Z",
     "iopub.status.idle": "2021-01-26T05:55:45.756846Z",
     "shell.execute_reply": "2021-01-26T05:55:45.757635Z"
    },
    "papermill": {
     "duration": 0.677544,
     "end_time": "2021-01-26T05:55:45.757825",
     "exception": false,
     "start_time": "2021-01-26T05:55:45.080281",
     "status": "completed"
    },
    "tags": []
   },
   "outputs": [],
   "source": [
    "cv = ShuffleSplit(n_splits = 5, test_size = 0.2, random_state = 0)     # ShuffleSplit is just a another type of splitting data\n",
    "cross_val_score(LinearRegression(), X, y, cv=cv)     "
   ]
  },
  {
   "cell_type": "markdown",
   "metadata": {
    "papermill": {
     "duration": 0.081952,
     "end_time": "2021-01-26T05:55:45.921511",
     "exception": false,
     "start_time": "2021-01-26T05:55:45.839559",
     "status": "completed"
    },
    "tags": []
   },
   "source": [
    "Cross Validation is mainly used for the comparison of different models. For each model, you may get the average generalization error on the k validation sets. Then you will be able to choose the model with the lowest average generation error as your optimal model."
   ]
  },
  {
   "cell_type": "code",
   "execution_count": null,
   "metadata": {
    "execution": {
     "iopub.execute_input": "2021-01-26T05:55:46.089432Z",
     "iopub.status.busy": "2021-01-26T05:55:46.088418Z",
     "iopub.status.idle": "2021-01-26T05:55:46.100424Z",
     "shell.execute_reply": "2021-01-26T05:55:46.100999Z"
    },
    "papermill": {
     "duration": 0.097107,
     "end_time": "2021-01-26T05:55:46.101157",
     "exception": false,
     "start_time": "2021-01-26T05:55:46.004050",
     "status": "completed"
    },
    "tags": []
   },
   "outputs": [],
   "source": [
    "def find_best_model_using_gridsearchcv(X,y):\n",
    "    '''\n",
    "    Function to try different models at once of the data with different parameters to find the best ones.\n",
    "    '''\n",
    "    algos = {\n",
    "        'linear_regression':{\n",
    "            'model': LinearRegression(),\n",
    "            'params':{\n",
    "                'normalize':[True,False]\n",
    "            }\n",
    "        },\n",
    "        'lasso':{\n",
    "            'model': Lasso(),\n",
    "            'params':{\n",
    "                'alpha' : [1,2],\n",
    "                'selection':['random','cyclic']\n",
    "            }\n",
    "        },\n",
    "        'decision_tree':{\n",
    "            'model': DecisionTreeRegressor(),\n",
    "            'params':{\n",
    "                'criterion':['mse','friedman_mse'],\n",
    "                'splitter':['best','random']\n",
    "            }\n",
    "        }\n",
    "    }\n",
    "    scores = []\n",
    "    cv = ShuffleSplit(n_splits=5,test_size=0.2,random_state=0)\n",
    "    for algo_name, config in algos.items():\n",
    "        gs = GridSearchCV(config['model'],config['params'], cv=cv, return_train_score=False)     # GridSearchCV is the main focus as it helps to try out the different parameters for the different models.\n",
    "        gs.fit(X,y)\n",
    "        scores.append({\n",
    "            'model': algo_name,\n",
    "            'best_score':gs.best_score_,\n",
    "            'best_params':gs.best_params_\n",
    "        })\n",
    "    return pd.DataFrame(scores,columns=['model','best_score','best_params'])     # At last binding the results of the models with best params. into a DataFrame."
   ]
  },
  {
   "cell_type": "code",
   "execution_count": null,
   "metadata": {
    "execution": {
     "iopub.execute_input": "2021-01-26T05:55:46.274046Z",
     "iopub.status.busy": "2021-01-26T05:55:46.273031Z",
     "iopub.status.idle": "2021-01-26T05:55:51.177899Z",
     "shell.execute_reply": "2021-01-26T05:55:51.177196Z"
    },
    "papermill": {
     "duration": 4.990176,
     "end_time": "2021-01-26T05:55:51.178027",
     "exception": false,
     "start_time": "2021-01-26T05:55:46.187851",
     "status": "completed"
    },
    "tags": []
   },
   "outputs": [],
   "source": [
    "find_best_model_using_gridsearchcv(X, y)"
   ]
  },
  {
   "cell_type": "markdown",
   "metadata": {
    "papermill": {
     "duration": 0.083035,
     "end_time": "2021-01-26T05:55:51.343180",
     "exception": false,
     "start_time": "2021-01-26T05:55:51.260145",
     "status": "completed"
    },
    "tags": []
   },
   "source": [
    "As we can see the LinearRegression model performed the best, so we are going to use as it for prediction."
   ]
  },
  {
   "cell_type": "markdown",
   "metadata": {
    "papermill": {
     "duration": 0.081281,
     "end_time": "2021-01-26T05:55:51.506874",
     "exception": false,
     "start_time": "2021-01-26T05:55:51.425593",
     "status": "completed"
    },
    "tags": []
   },
   "source": [
    "# 9. Prediction Time\n",
    "Predicting the prices using LinearRegression in Lakhs."
   ]
  },
  {
   "cell_type": "code",
   "execution_count": null,
   "metadata": {
    "execution": {
     "iopub.execute_input": "2021-01-26T05:55:51.680715Z",
     "iopub.status.busy": "2021-01-26T05:55:51.679929Z",
     "iopub.status.idle": "2021-01-26T05:55:51.683060Z",
     "shell.execute_reply": "2021-01-26T05:55:51.682486Z"
    },
    "papermill": {
     "duration": 0.093622,
     "end_time": "2021-01-26T05:55:51.683178",
     "exception": false,
     "start_time": "2021-01-26T05:55:51.589556",
     "status": "completed"
    },
    "tags": []
   },
   "outputs": [],
   "source": [
    "def predict_price(location,sqft,bath,bhk):\n",
    "    '''\n",
    "    Function which helps to actually predict the prices.\n",
    "    '''\n",
    "    loc_index = np.where(X.columns==location)[0][0]     # np.where() function returns the indices of elements in an input array where the given condition is satisfied.\n",
    "    \n",
    "    x = np.zeros(len(X.columns))    # np.zeros() function returns a new array of given shape and type, with zeros.\n",
    "    x[0] = sqft\n",
    "    x[1] = bath\n",
    "    x[2] = bhk\n",
    "    if loc_index >= 0:\n",
    "        x[loc_index] = 1\n",
    "        \n",
    "    return lr_clf.predict([x])[0]"
   ]
  },
  {
   "cell_type": "code",
   "execution_count": null,
   "metadata": {
    "execution": {
     "iopub.execute_input": "2021-01-26T05:55:51.852148Z",
     "iopub.status.busy": "2021-01-26T05:55:51.851094Z",
     "iopub.status.idle": "2021-01-26T05:55:51.855708Z",
     "shell.execute_reply": "2021-01-26T05:55:51.855007Z"
    },
    "papermill": {
     "duration": 0.092113,
     "end_time": "2021-01-26T05:55:51.855825",
     "exception": false,
     "start_time": "2021-01-26T05:55:51.763712",
     "status": "completed"
    },
    "tags": []
   },
   "outputs": [],
   "source": [
    "print(predict_price('1st Phase JP Nagar', 1000, 2, 3).round(3),'Lakhs')\n"
   ]
  },
  {
   "cell_type": "code",
   "execution_count": null,
   "metadata": {},
   "outputs": [],
   "source": [
    "print(predict_price('1st Block Jayanagar',2900,4,4))"
   ]
  },
  {
   "cell_type": "markdown",
   "metadata": {
    "papermill": {
     "duration": 0.082976,
     "end_time": "2021-01-26T05:55:52.022486",
     "exception": false,
     "start_time": "2021-01-26T05:55:51.939510",
     "status": "completed"
    },
    "tags": []
   },
   "source": [
    "# 10. Saving Model\n",
    "For saving the model, we will be using `pickle` module and `json` module for saving the locations' names."
   ]
  },
  {
   "cell_type": "code",
   "execution_count": null,
   "metadata": {
    "execution": {
     "iopub.execute_input": "2021-01-26T05:55:52.192175Z",
     "iopub.status.busy": "2021-01-26T05:55:52.191400Z",
     "iopub.status.idle": "2021-01-26T05:55:52.195142Z",
     "shell.execute_reply": "2021-01-26T05:55:52.194526Z"
    },
    "papermill": {
     "duration": 0.090756,
     "end_time": "2021-01-26T05:55:52.195264",
     "exception": false,
     "start_time": "2021-01-26T05:55:52.104508",
     "status": "completed"
    },
    "tags": []
   },
   "outputs": [],
   "source": [
    "with open('BHP_model.pickle','wb') as f:\n",
    "    pickle.dump(lr_clf,f)"
   ]
  },
  {
   "cell_type": "code",
   "execution_count": null,
   "metadata": {
    "execution": {
     "iopub.execute_input": "2021-01-26T05:55:52.368167Z",
     "iopub.status.busy": "2021-01-26T05:55:52.367427Z",
     "iopub.status.idle": "2021-01-26T05:55:52.371202Z",
     "shell.execute_reply": "2021-01-26T05:55:52.370646Z"
    },
    "papermill": {
     "duration": 0.094176,
     "end_time": "2021-01-26T05:55:52.371335",
     "exception": false,
     "start_time": "2021-01-26T05:55:52.277159",
     "status": "completed"
    },
    "tags": []
   },
   "outputs": [],
   "source": [
    "columns = {\n",
    "    'data_columns' : [col.lower() for col in X.columns]\n",
    "}\n",
    "with open('columns.json','w') as f:\n",
    "    f.write(json.dumps(columns))"
   ]
  },
  {
   "cell_type": "markdown",
   "metadata": {
    "papermill": {
     "duration": 0.087713,
     "end_time": "2021-01-26T05:55:52.541572",
     "exception": false,
     "start_time": "2021-01-26T05:55:52.453859",
     "status": "completed"
    },
    "tags": []
   },
   "source": [
    "\n",
    "## Thank You!😊"
   ]
  },
  {
   "cell_type": "code",
   "execution_count": null,
   "metadata": {
    "papermill": {
     "duration": 0.083487,
     "end_time": "2021-01-26T05:55:52.710344",
     "exception": false,
     "start_time": "2021-01-26T05:55:52.626857",
     "status": "completed"
    },
    "tags": []
   },
   "outputs": [],
   "source": []
  }
 ],
 "metadata": {
  "kernelspec": {
   "display_name": "Python 3",
   "language": "python",
   "name": "python3"
  },
  "language_info": {
   "codemirror_mode": {
    "name": "ipython",
    "version": 3
   },
   "file_extension": ".py",
   "mimetype": "text/x-python",
   "name": "python",
   "nbconvert_exporter": "python",
   "pygments_lexer": "ipython3",
   "version": "3.8.5"
  },
  "papermill": {
   "duration": 26.748419,
   "end_time": "2021-01-26T05:55:52.901072",
   "environment_variables": {},
   "exception": null,
   "input_path": "__notebook__.ipynb",
   "output_path": "__notebook__.ipynb",
   "parameters": {},
   "start_time": "2021-01-26T05:55:26.152653",
   "version": "2.1.0"
  }
 },
 "nbformat": 4,
 "nbformat_minor": 4
}
